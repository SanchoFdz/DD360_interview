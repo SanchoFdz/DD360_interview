{
  "nbformat": 4,
  "nbformat_minor": 0,
  "metadata": {
    "accelerator": "GPU",
    "colab": {
      "provenance": [],
      "gpuType": "T4"
    },
    "kernelspec": {
      "display_name": "Python 3",
      "name": "python3"
    },
    "language_info": {
      "codemirror_mode": {
        "name": "ipython",
        "version": 3
      },
      "file_extension": ".py",
      "mimetype": "text/x-python",
      "name": "python",
      "nbconvert_exporter": "python",
      "pygments_lexer": "ipython3",
      "version": "3.8.3"
    }
  },
  "cells": [
    {
      "cell_type": "code",
      "metadata": {
        "colab": {
          "base_uri": "https://localhost:8080/"
        },
        "id": "rWo7xWzOiKzE",
        "outputId": "dcb031f6-ccdc-409b-ebab-0d36113487ea"
      },
      "source": [
        "!pip install -q tensorflow-text \n",
        "!pip install -q tf-models-official \n",
        "!pip install bert-for-tf2\n",
        "!pip install sentencepiece"
      ],
      "execution_count": null,
      "outputs": [
        {
          "output_type": "stream",
          "name": "stdout",
          "text": [
            "\u001b[2K     \u001b[90m━━━━━━━━━━━━━━━━━━━━━━━━━━━━━━━━━━━━━━━━\u001b[0m \u001b[32m6.0/6.0 MB\u001b[0m \u001b[31m43.1 MB/s\u001b[0m eta \u001b[36m0:00:00\u001b[0m\n",
            "\u001b[2K     \u001b[90m━━━━━━━━━━━━━━━━━━━━━━━━━━━━━━━━━━━━━━━━\u001b[0m \u001b[32m2.6/2.6 MB\u001b[0m \u001b[31m15.2 MB/s\u001b[0m eta \u001b[36m0:00:00\u001b[0m\n",
            "\u001b[2K     \u001b[90m━━━━━━━━━━━━━━━━━━━━━━━━━━━━━━━━━━━━━━\u001b[0m \u001b[32m175.1/175.1 kB\u001b[0m \u001b[31m15.6 MB/s\u001b[0m eta \u001b[36m0:00:00\u001b[0m\n",
            "\u001b[?25h  Installing build dependencies ... \u001b[?25l\u001b[?25hdone\n",
            "  Getting requirements to build wheel ... \u001b[?25l\u001b[?25hdone\n",
            "  Preparing metadata (pyproject.toml) ... \u001b[?25l\u001b[?25hdone\n",
            "\u001b[2K     \u001b[90m━━━━━━━━━━━━━━━━━━━━━━━━━━━━━━━━━━━━━━━\u001b[0m \u001b[32m118.9/118.9 kB\u001b[0m \u001b[31m7.5 MB/s\u001b[0m eta \u001b[36m0:00:00\u001b[0m\n",
            "\u001b[2K     \u001b[90m━━━━━━━━━━━━━━━━━━━━━━━━━━━━━━━━━━━━━━━━\u001b[0m \u001b[32m1.3/1.3 MB\u001b[0m \u001b[31m55.9 MB/s\u001b[0m eta \u001b[36m0:00:00\u001b[0m\n",
            "\u001b[2K     \u001b[90m━━━━━━━━━━━━━━━━━━━━━━━━━━━━━━━━━━━━━━━━\u001b[0m \u001b[32m43.6/43.6 kB\u001b[0m \u001b[31m2.9 MB/s\u001b[0m eta \u001b[36m0:00:00\u001b[0m\n",
            "\u001b[?25h  Preparing metadata (setup.py) ... \u001b[?25l\u001b[?25hdone\n",
            "\u001b[2K     \u001b[90m━━━━━━━━━━━━━━━━━━━━━━━━━━━━━━━━━━━━━━\u001b[0m \u001b[32m591.0/591.0 kB\u001b[0m \u001b[31m13.5 MB/s\u001b[0m eta \u001b[36m0:00:00\u001b[0m\n",
            "\u001b[2K     \u001b[90m━━━━━━━━━━━━━━━━━━━━━━━━━━━━━━━━━━━━━━\u001b[0m \u001b[32m241.2/241.2 kB\u001b[0m \u001b[31m14.4 MB/s\u001b[0m eta \u001b[36m0:00:00\u001b[0m\n",
            "\u001b[2K     \u001b[90m━━━━━━━━━━━━━━━━━━━━━━━━━━━━━━━━━━━━━━━━\u001b[0m \u001b[32m17.1/17.1 MB\u001b[0m \u001b[31m66.1 MB/s\u001b[0m eta \u001b[36m0:00:00\u001b[0m\n",
            "\u001b[?25h  Building wheel for pyyaml (pyproject.toml) ... \u001b[?25l\u001b[?25hdone\n",
            "  Building wheel for seqeval (setup.py) ... \u001b[?25l\u001b[?25hdone\n",
            "Looking in indexes: https://pypi.org/simple, https://us-python.pkg.dev/colab-wheels/public/simple/\n",
            "Collecting bert-for-tf2\n",
            "  Downloading bert-for-tf2-0.14.9.tar.gz (41 kB)\n",
            "\u001b[2K     \u001b[90m━━━━━━━━━━━━━━━━━━━━━━━━━━━━━━━━━━━━━━━\u001b[0m \u001b[32m41.2/41.2 kB\u001b[0m \u001b[31m185.2 kB/s\u001b[0m eta \u001b[36m0:00:00\u001b[0m\n",
            "\u001b[?25h  Preparing metadata (setup.py) ... \u001b[?25l\u001b[?25hdone\n",
            "Collecting py-params>=0.9.6 (from bert-for-tf2)\n",
            "  Downloading py-params-0.10.2.tar.gz (7.4 kB)\n",
            "  Preparing metadata (setup.py) ... \u001b[?25l\u001b[?25hdone\n",
            "Collecting params-flow>=0.8.0 (from bert-for-tf2)\n",
            "  Downloading params-flow-0.8.2.tar.gz (22 kB)\n",
            "  Preparing metadata (setup.py) ... \u001b[?25l\u001b[?25hdone\n",
            "Requirement already satisfied: numpy in /usr/local/lib/python3.10/dist-packages (from params-flow>=0.8.0->bert-for-tf2) (1.23.5)\n",
            "Requirement already satisfied: tqdm in /usr/local/lib/python3.10/dist-packages (from params-flow>=0.8.0->bert-for-tf2) (4.65.0)\n",
            "Building wheels for collected packages: bert-for-tf2, params-flow, py-params\n",
            "  Building wheel for bert-for-tf2 (setup.py) ... \u001b[?25l\u001b[?25hdone\n",
            "  Created wheel for bert-for-tf2: filename=bert_for_tf2-0.14.9-py3-none-any.whl size=30515 sha256=7f1d9f53bab2b8a10dc11a8a6ff8d1c4b5990d4f44e16e6c7c2c39a58f057e16\n",
            "  Stored in directory: /root/.cache/pip/wheels/d8/da/50/126d7b8416d9a0e6bf876935c2219a71e72a6529c25e150c56\n",
            "  Building wheel for params-flow (setup.py) ... \u001b[?25l\u001b[?25hdone\n",
            "  Created wheel for params-flow: filename=params_flow-0.8.2-py3-none-any.whl size=19457 sha256=5b34058af32f6d97ed8c3997cf66cea310a30b1a1d17ddeab62a9ad78064f79b\n",
            "  Stored in directory: /root/.cache/pip/wheels/97/a8/d0/f7419404174976a2686bb98b5c30df01cc71445415f32db9e6\n",
            "  Building wheel for py-params (setup.py) ... \u001b[?25l\u001b[?25hdone\n",
            "  Created wheel for py-params: filename=py_params-0.10.2-py3-none-any.whl size=7892 sha256=f8d1afcb16164612c8800eb73e2f53244e3e49f721ce3e504989f2f8c5dfcc0f\n",
            "  Stored in directory: /root/.cache/pip/wheels/69/c8/b3/92666cff9fb312bc3473eaa6b396695b89a7b3e31e90876819\n",
            "Successfully built bert-for-tf2 params-flow py-params\n",
            "Installing collected packages: py-params, params-flow, bert-for-tf2\n",
            "Successfully installed bert-for-tf2-0.14.9 params-flow-0.8.2 py-params-0.10.2\n",
            "Looking in indexes: https://pypi.org/simple, https://us-python.pkg.dev/colab-wheels/public/simple/\n",
            "Requirement already satisfied: sentencepiece in /usr/local/lib/python3.10/dist-packages (0.1.99)\n"
          ]
        }
      ]
    },
    {
      "cell_type": "code",
      "source": [
        "!pip install -U numpy"
      ],
      "metadata": {
        "colab": {
          "base_uri": "https://localhost:8080/",
          "height": 385
        },
        "id": "FwdkcXUwZ-7-",
        "outputId": "8b1c71ab-7a69-496a-e225-614bceb09f23"
      },
      "execution_count": null,
      "outputs": [
        {
          "output_type": "stream",
          "name": "stdout",
          "text": [
            "Looking in indexes: https://pypi.org/simple, https://us-python.pkg.dev/colab-wheels/public/simple/\n",
            "Requirement already satisfied: numpy in /usr/local/lib/python3.10/dist-packages (1.23.5)\n",
            "Collecting numpy\n",
            "  Downloading numpy-1.24.3-cp310-cp310-manylinux_2_17_x86_64.manylinux2014_x86_64.whl (17.3 MB)\n",
            "\u001b[2K     \u001b[90m━━━━━━━━━━━━━━━━━━━━━━━━━━━━━━━━━━━━━━━━\u001b[0m \u001b[32m17.3/17.3 MB\u001b[0m \u001b[31m63.3 MB/s\u001b[0m eta \u001b[36m0:00:00\u001b[0m\n",
            "\u001b[?25hInstalling collected packages: numpy\n",
            "  Attempting uninstall: numpy\n",
            "    Found existing installation: numpy 1.23.5\n",
            "    Uninstalling numpy-1.23.5:\n",
            "      Successfully uninstalled numpy-1.23.5\n",
            "\u001b[31mERROR: pip's dependency resolver does not currently take into account all the packages that are installed. This behaviour is the source of the following dependency conflicts.\n",
            "numba 0.56.4 requires numpy<1.24,>=1.18, but you have numpy 1.24.3 which is incompatible.\n",
            "tensorflow 2.12.0 requires numpy<1.24,>=1.22, but you have numpy 1.24.3 which is incompatible.\u001b[0m\u001b[31m\n",
            "\u001b[0mSuccessfully installed numpy-1.24.3\n"
          ]
        },
        {
          "output_type": "display_data",
          "data": {
            "application/vnd.colab-display-data+json": {
              "pip_warning": {
                "packages": [
                  "numpy"
                ]
              }
            }
          },
          "metadata": {}
        }
      ]
    },
    {
      "cell_type": "code",
      "metadata": {
        "id": "Jk-gtqEnh1My",
        "colab": {
          "base_uri": "https://localhost:8080/",
          "height": 683
        },
        "outputId": "37825984-f0d1-479c-9ed5-67a5717ba35d"
      },
      "source": [
        "import os\n",
        "import shutil\n",
        "import numpy as np\n",
        "import pandas as pd\n",
        "import matplotlib.pyplot as plt\n",
        "import re\n",
        "from sklearn.model_selection import train_test_split\n",
        "\n",
        "import tensorflow as tf\n",
        "import tensorflow_hub as hub\n",
        "import tensorflow_text as text\n",
        "from official.nlp import optimization\n",
        "tf.get_logger().setLevel('ERROR')\n",
        "\n",
        "from tensorflow.keras.models import Sequential\n",
        "from tensorflow.keras.layers import Input, Embedding, SimpleRNN, LSTM, Bidirectional, Dense, Dropout"
      ],
      "execution_count": null,
      "outputs": [
        {
          "output_type": "error",
          "ename": "RuntimeError",
          "evalue": "ignored",
          "traceback": [
            "\u001b[0;31m---------------------------------------------------------------------------\u001b[0m",
            "\u001b[0;31mRuntimeError\u001b[0m                              Traceback (most recent call last)",
            "\u001b[0;31mRuntimeError\u001b[0m: module compiled against API version 0x10 but this version of numpy is 0xf . Check the section C-API incompatibility at the Troubleshooting ImportError section at https://numpy.org/devdocs/user/troubleshooting-importerror.html#c-api-incompatibility for indications on how to solve this problem ."
          ]
        },
        {
          "output_type": "error",
          "ename": "ImportError",
          "evalue": "ignored",
          "traceback": [
            "\u001b[0;31m---------------------------------------------------------------------------\u001b[0m",
            "\u001b[0;31mImportError\u001b[0m                               Traceback (most recent call last)",
            "\u001b[0;32m<ipython-input-3-777efb838151>\u001b[0m in \u001b[0;36m<cell line: 7>\u001b[0;34m()\u001b[0m\n\u001b[1;32m      5\u001b[0m \u001b[0;32mimport\u001b[0m \u001b[0mmatplotlib\u001b[0m\u001b[0;34m.\u001b[0m\u001b[0mpyplot\u001b[0m \u001b[0;32mas\u001b[0m \u001b[0mplt\u001b[0m\u001b[0;34m\u001b[0m\u001b[0;34m\u001b[0m\u001b[0m\n\u001b[1;32m      6\u001b[0m \u001b[0;32mimport\u001b[0m \u001b[0mre\u001b[0m\u001b[0;34m\u001b[0m\u001b[0;34m\u001b[0m\u001b[0m\n\u001b[0;32m----> 7\u001b[0;31m \u001b[0;32mfrom\u001b[0m \u001b[0msklearn\u001b[0m\u001b[0;34m.\u001b[0m\u001b[0mmodel_selection\u001b[0m \u001b[0;32mimport\u001b[0m \u001b[0mtrain_test_split\u001b[0m\u001b[0;34m\u001b[0m\u001b[0;34m\u001b[0m\u001b[0m\n\u001b[0m\u001b[1;32m      8\u001b[0m \u001b[0;34m\u001b[0m\u001b[0m\n\u001b[1;32m      9\u001b[0m \u001b[0;32mimport\u001b[0m \u001b[0mtensorflow\u001b[0m \u001b[0;32mas\u001b[0m \u001b[0mtf\u001b[0m\u001b[0;34m\u001b[0m\u001b[0;34m\u001b[0m\u001b[0m\n",
            "\u001b[0;32m/usr/local/lib/python3.10/dist-packages/sklearn/__init__.py\u001b[0m in \u001b[0;36m<module>\u001b[0;34m\u001b[0m\n\u001b[1;32m     80\u001b[0m     \u001b[0;32mfrom\u001b[0m \u001b[0;34m.\u001b[0m \u001b[0;32mimport\u001b[0m \u001b[0m_distributor_init\u001b[0m  \u001b[0;31m# noqa: F401\u001b[0m\u001b[0;34m\u001b[0m\u001b[0;34m\u001b[0m\u001b[0m\n\u001b[1;32m     81\u001b[0m     \u001b[0;32mfrom\u001b[0m \u001b[0;34m.\u001b[0m \u001b[0;32mimport\u001b[0m \u001b[0m__check_build\u001b[0m  \u001b[0;31m# noqa: F401\u001b[0m\u001b[0;34m\u001b[0m\u001b[0;34m\u001b[0m\u001b[0m\n\u001b[0;32m---> 82\u001b[0;31m     \u001b[0;32mfrom\u001b[0m \u001b[0;34m.\u001b[0m\u001b[0mbase\u001b[0m \u001b[0;32mimport\u001b[0m \u001b[0mclone\u001b[0m\u001b[0;34m\u001b[0m\u001b[0;34m\u001b[0m\u001b[0m\n\u001b[0m\u001b[1;32m     83\u001b[0m     \u001b[0;32mfrom\u001b[0m \u001b[0;34m.\u001b[0m\u001b[0mutils\u001b[0m\u001b[0;34m.\u001b[0m\u001b[0m_show_versions\u001b[0m \u001b[0;32mimport\u001b[0m \u001b[0mshow_versions\u001b[0m\u001b[0;34m\u001b[0m\u001b[0;34m\u001b[0m\u001b[0m\n\u001b[1;32m     84\u001b[0m \u001b[0;34m\u001b[0m\u001b[0m\n",
            "\u001b[0;32m/usr/local/lib/python3.10/dist-packages/sklearn/base.py\u001b[0m in \u001b[0;36m<module>\u001b[0;34m\u001b[0m\n\u001b[1;32m     15\u001b[0m \u001b[0;32mfrom\u001b[0m \u001b[0;34m.\u001b[0m \u001b[0;32mimport\u001b[0m \u001b[0m__version__\u001b[0m\u001b[0;34m\u001b[0m\u001b[0;34m\u001b[0m\u001b[0m\n\u001b[1;32m     16\u001b[0m \u001b[0;32mfrom\u001b[0m \u001b[0;34m.\u001b[0m\u001b[0m_config\u001b[0m \u001b[0;32mimport\u001b[0m \u001b[0mget_config\u001b[0m\u001b[0;34m\u001b[0m\u001b[0;34m\u001b[0m\u001b[0m\n\u001b[0;32m---> 17\u001b[0;31m \u001b[0;32mfrom\u001b[0m \u001b[0;34m.\u001b[0m\u001b[0mutils\u001b[0m \u001b[0;32mimport\u001b[0m \u001b[0m_IS_32BIT\u001b[0m\u001b[0;34m\u001b[0m\u001b[0;34m\u001b[0m\u001b[0m\n\u001b[0m\u001b[1;32m     18\u001b[0m \u001b[0;32mfrom\u001b[0m \u001b[0;34m.\u001b[0m\u001b[0mutils\u001b[0m\u001b[0;34m.\u001b[0m\u001b[0m_set_output\u001b[0m \u001b[0;32mimport\u001b[0m \u001b[0m_SetOutputMixin\u001b[0m\u001b[0;34m\u001b[0m\u001b[0;34m\u001b[0m\u001b[0m\n\u001b[1;32m     19\u001b[0m from .utils._tags import (\n",
            "\u001b[0;32m/usr/local/lib/python3.10/dist-packages/sklearn/utils/__init__.py\u001b[0m in \u001b[0;36m<module>\u001b[0;34m\u001b[0m\n\u001b[1;32m     23\u001b[0m \u001b[0;32mfrom\u001b[0m \u001b[0;34m.\u001b[0m\u001b[0mdeprecation\u001b[0m \u001b[0;32mimport\u001b[0m \u001b[0mdeprecated\u001b[0m\u001b[0;34m\u001b[0m\u001b[0;34m\u001b[0m\u001b[0m\n\u001b[1;32m     24\u001b[0m \u001b[0;32mfrom\u001b[0m \u001b[0;34m.\u001b[0m\u001b[0mdiscovery\u001b[0m \u001b[0;32mimport\u001b[0m \u001b[0mall_estimators\u001b[0m\u001b[0;34m\u001b[0m\u001b[0;34m\u001b[0m\u001b[0m\n\u001b[0;32m---> 25\u001b[0;31m \u001b[0;32mfrom\u001b[0m \u001b[0;34m.\u001b[0m\u001b[0mfixes\u001b[0m \u001b[0;32mimport\u001b[0m \u001b[0mparse_version\u001b[0m\u001b[0;34m,\u001b[0m \u001b[0mthreadpool_info\u001b[0m\u001b[0;34m\u001b[0m\u001b[0;34m\u001b[0m\u001b[0m\n\u001b[0m\u001b[1;32m     26\u001b[0m \u001b[0;32mfrom\u001b[0m \u001b[0;34m.\u001b[0m\u001b[0m_estimator_html_repr\u001b[0m \u001b[0;32mimport\u001b[0m \u001b[0mestimator_html_repr\u001b[0m\u001b[0;34m\u001b[0m\u001b[0;34m\u001b[0m\u001b[0m\n\u001b[1;32m     27\u001b[0m from .validation import (\n",
            "\u001b[0;32m/usr/local/lib/python3.10/dist-packages/sklearn/utils/fixes.py\u001b[0m in \u001b[0;36m<module>\u001b[0;34m\u001b[0m\n\u001b[1;32m     17\u001b[0m \u001b[0;32mimport\u001b[0m \u001b[0mnumpy\u001b[0m \u001b[0;32mas\u001b[0m \u001b[0mnp\u001b[0m\u001b[0;34m\u001b[0m\u001b[0;34m\u001b[0m\u001b[0m\n\u001b[1;32m     18\u001b[0m \u001b[0;32mimport\u001b[0m \u001b[0mscipy\u001b[0m\u001b[0;34m\u001b[0m\u001b[0;34m\u001b[0m\u001b[0m\n\u001b[0;32m---> 19\u001b[0;31m \u001b[0;32mimport\u001b[0m \u001b[0mscipy\u001b[0m\u001b[0;34m.\u001b[0m\u001b[0mstats\u001b[0m\u001b[0;34m\u001b[0m\u001b[0;34m\u001b[0m\u001b[0m\n\u001b[0m\u001b[1;32m     20\u001b[0m \u001b[0;32mimport\u001b[0m \u001b[0mthreadpoolctl\u001b[0m\u001b[0;34m\u001b[0m\u001b[0;34m\u001b[0m\u001b[0m\n\u001b[1;32m     21\u001b[0m \u001b[0;34m\u001b[0m\u001b[0m\n",
            "\u001b[0;32m/usr/local/lib/python3.10/dist-packages/scipy/stats/__init__.py\u001b[0m in \u001b[0;36m<module>\u001b[0;34m\u001b[0m\n\u001b[1;32m    483\u001b[0m from ._warnings_errors import (ConstantInputWarning, NearConstantInputWarning,\n\u001b[1;32m    484\u001b[0m                                DegenerateDataWarning, FitError)\n\u001b[0;32m--> 485\u001b[0;31m \u001b[0;32mfrom\u001b[0m \u001b[0;34m.\u001b[0m\u001b[0m_stats_py\u001b[0m \u001b[0;32mimport\u001b[0m \u001b[0;34m*\u001b[0m\u001b[0;34m\u001b[0m\u001b[0;34m\u001b[0m\u001b[0m\n\u001b[0m\u001b[1;32m    486\u001b[0m \u001b[0;32mfrom\u001b[0m \u001b[0;34m.\u001b[0m\u001b[0m_variation\u001b[0m \u001b[0;32mimport\u001b[0m \u001b[0mvariation\u001b[0m\u001b[0;34m\u001b[0m\u001b[0;34m\u001b[0m\u001b[0m\n\u001b[1;32m    487\u001b[0m \u001b[0;32mfrom\u001b[0m \u001b[0;34m.\u001b[0m\u001b[0mdistributions\u001b[0m \u001b[0;32mimport\u001b[0m \u001b[0;34m*\u001b[0m\u001b[0;34m\u001b[0m\u001b[0;34m\u001b[0m\u001b[0m\n",
            "\u001b[0;32m/usr/local/lib/python3.10/dist-packages/scipy/stats/_stats_py.py\u001b[0m in \u001b[0;36m<module>\u001b[0;34m\u001b[0m\n\u001b[1;32m     35\u001b[0m \u001b[0;32mfrom\u001b[0m \u001b[0mnumpy\u001b[0m \u001b[0;32mimport\u001b[0m \u001b[0marray\u001b[0m\u001b[0;34m,\u001b[0m \u001b[0masarray\u001b[0m\u001b[0;34m,\u001b[0m \u001b[0mma\u001b[0m\u001b[0;34m\u001b[0m\u001b[0;34m\u001b[0m\u001b[0m\n\u001b[1;32m     36\u001b[0m \u001b[0;32mfrom\u001b[0m \u001b[0mnumpy\u001b[0m\u001b[0;34m.\u001b[0m\u001b[0mlib\u001b[0m \u001b[0;32mimport\u001b[0m \u001b[0mNumpyVersion\u001b[0m\u001b[0;34m\u001b[0m\u001b[0;34m\u001b[0m\u001b[0m\n\u001b[0;32m---> 37\u001b[0;31m \u001b[0;32mfrom\u001b[0m \u001b[0mnumpy\u001b[0m\u001b[0;34m.\u001b[0m\u001b[0mtesting\u001b[0m \u001b[0;32mimport\u001b[0m \u001b[0msuppress_warnings\u001b[0m\u001b[0;34m\u001b[0m\u001b[0;34m\u001b[0m\u001b[0m\n\u001b[0m\u001b[1;32m     38\u001b[0m \u001b[0;34m\u001b[0m\u001b[0m\n\u001b[1;32m     39\u001b[0m \u001b[0;32mfrom\u001b[0m \u001b[0mscipy\u001b[0m\u001b[0;34m.\u001b[0m\u001b[0mspatial\u001b[0m\u001b[0;34m.\u001b[0m\u001b[0mdistance\u001b[0m \u001b[0;32mimport\u001b[0m \u001b[0mcdist\u001b[0m\u001b[0;34m\u001b[0m\u001b[0;34m\u001b[0m\u001b[0m\n",
            "\u001b[0;32m/usr/local/lib/python3.10/dist-packages/numpy/testing/__init__.py\u001b[0m in \u001b[0;36m<module>\u001b[0;34m\u001b[0m\n\u001b[1;32m      9\u001b[0m \u001b[0;34m\u001b[0m\u001b[0m\n\u001b[1;32m     10\u001b[0m \u001b[0;32mfrom\u001b[0m \u001b[0;34m.\u001b[0m \u001b[0;32mimport\u001b[0m \u001b[0m_private\u001b[0m\u001b[0;34m\u001b[0m\u001b[0;34m\u001b[0m\u001b[0m\n\u001b[0;32m---> 11\u001b[0;31m \u001b[0;32mfrom\u001b[0m \u001b[0;34m.\u001b[0m\u001b[0m_private\u001b[0m\u001b[0;34m.\u001b[0m\u001b[0mutils\u001b[0m \u001b[0;32mimport\u001b[0m \u001b[0;34m*\u001b[0m\u001b[0;34m\u001b[0m\u001b[0;34m\u001b[0m\u001b[0m\n\u001b[0m\u001b[1;32m     12\u001b[0m \u001b[0;32mfrom\u001b[0m \u001b[0;34m.\u001b[0m\u001b[0m_private\u001b[0m\u001b[0;34m.\u001b[0m\u001b[0mutils\u001b[0m \u001b[0;32mimport\u001b[0m \u001b[0;34m(\u001b[0m\u001b[0m_assert_valid_refcount\u001b[0m\u001b[0;34m,\u001b[0m \u001b[0m_gen_alignment_data\u001b[0m\u001b[0;34m)\u001b[0m\u001b[0;34m\u001b[0m\u001b[0;34m\u001b[0m\u001b[0m\n\u001b[1;32m     13\u001b[0m \u001b[0;32mfrom\u001b[0m \u001b[0;34m.\u001b[0m\u001b[0m_private\u001b[0m \u001b[0;32mimport\u001b[0m \u001b[0mextbuild\u001b[0m\u001b[0;34m,\u001b[0m \u001b[0mdecorators\u001b[0m \u001b[0;32mas\u001b[0m \u001b[0mdec\u001b[0m\u001b[0;34m\u001b[0m\u001b[0;34m\u001b[0m\u001b[0m\n",
            "\u001b[0;32m/usr/local/lib/python3.10/dist-packages/numpy/testing/_private/utils.py\u001b[0m in \u001b[0;36m<module>\u001b[0;34m\u001b[0m\n\u001b[1;32m     21\u001b[0m from numpy.core import(\n\u001b[1;32m     22\u001b[0m      intp, float32, empty, arange, array_repr, ndarray, isnat, array)\n\u001b[0;32m---> 23\u001b[0;31m \u001b[0;32mimport\u001b[0m \u001b[0mnumpy\u001b[0m\u001b[0;34m.\u001b[0m\u001b[0mlinalg\u001b[0m\u001b[0;34m.\u001b[0m\u001b[0mlapack_lite\u001b[0m\u001b[0;34m\u001b[0m\u001b[0;34m\u001b[0m\u001b[0m\n\u001b[0m\u001b[1;32m     24\u001b[0m \u001b[0;34m\u001b[0m\u001b[0m\n\u001b[1;32m     25\u001b[0m \u001b[0;32mfrom\u001b[0m \u001b[0mio\u001b[0m \u001b[0;32mimport\u001b[0m \u001b[0mStringIO\u001b[0m\u001b[0;34m\u001b[0m\u001b[0;34m\u001b[0m\u001b[0m\n",
            "\u001b[0;31mImportError\u001b[0m: numpy.core.multiarray failed to import",
            "",
            "\u001b[0;31m---------------------------------------------------------------------------\u001b[0;32m\nNOTE: If your import is failing due to a missing package, you can\nmanually install dependencies using either !pip or !apt.\n\nTo view examples of installing some common dependencies, click the\n\"Open Examples\" button below.\n\u001b[0;31m---------------------------------------------------------------------------\u001b[0m\n"
          ],
          "errorDetails": {
            "actions": [
              {
                "action": "open_url",
                "actionText": "Open Examples",
                "url": "/notebooks/snippets/importing_libraries.ipynb"
              }
            ]
          }
        }
      ]
    },
    {
      "cell_type": "code",
      "metadata": {
        "id": "xfk9aNQYvOrn"
      },
      "source": [
        "raw_data = pd.read_csv(\"/content/reto_precios.csv\")\n",
        "raw_data = raw_data[['main_name','location',\n",
        "                     'description', 'attributes',\n",
        "                     'vendor','final_price']]\n",
        "raw_data.dropna(inplace=True)\n",
        "raw_data['Text'] = (raw_data['main_name'] + ' '+ raw_data['vendor'] \n",
        "                    + ' ' + raw_data['location'] \n",
        "                    + ' ' + raw_data['attributes']\n",
        "                    + ' '+ raw_data['description'])\n",
        "raw_data = raw_data.drop(['main_name','location','description', 'vendor', 'attributes'], axis = 1)\n",
        "raw_data.head()"
      ],
      "execution_count": null,
      "outputs": []
    },
    {
      "cell_type": "code",
      "source": [
        "import numpy as np\n",
        "import pandas as pd\n",
        "from scipy.stats import norm, skew, kurtosis\n",
        "import matplotlib.pyplot as plt\n",
        "from sklearn.preprocessing import StandardScaler\n",
        "\n",
        "plt.hist(raw_data['final_price'], bins=30, alpha=0.5)\n",
        "plt.xlabel('Final price')\n",
        "plt.ylabel('Frequency')\n",
        "plt.title('Precio')\n",
        "plt.grid(True)\n",
        "plt.show()\n",
        "\n",
        "skewness = skew(raw_data['final_price'])\n",
        "kurt = kurtosis(raw_data['final_price'])\n",
        "\n",
        "print(f\"Skewness: {skewness}\")\n",
        "print(f\"Kurtosis: {kurt}\")"
      ],
      "metadata": {
        "id": "IQs7G3YRa8g6"
      },
      "execution_count": null,
      "outputs": []
    },
    {
      "cell_type": "code",
      "source": [
        "from sklearn.preprocessing import MinMaxScaler\n",
        "\n",
        "scaler = MinMaxScaler()\n",
        "raw_data['final_price_scaled'] = scaler.fit_transform(raw_data[['final_price']])"
      ],
      "metadata": {
        "id": "_GBk0e7aftCg"
      },
      "execution_count": null,
      "outputs": []
    },
    {
      "cell_type": "code",
      "source": [
        "raw_data.shape"
      ],
      "metadata": {
        "id": "gcq4_SSmb3wC"
      },
      "execution_count": null,
      "outputs": []
    },
    {
      "cell_type": "code",
      "source": [
        "!pip install nltk"
      ],
      "metadata": {
        "id": "y-BxI5MMFZek"
      },
      "execution_count": null,
      "outputs": []
    },
    {
      "cell_type": "code",
      "metadata": {
        "id": "l5wDg8D1vPAO"
      },
      "source": [
        "TAG_RE = re.compile(r'<[^>]+>')\n",
        "import nltk\n",
        "from nltk.corpus import stopwords\n",
        "nltk.download('stopwords')\n",
        "\n",
        "def preprocess_text(sen):\n",
        "  \"\"\"\n",
        "  \"\"\"\n",
        "\n",
        "  tokens = sen.lower().split()\n",
        "    \n",
        "  stop_words = set(stopwords.words('spanish'))\n",
        "  tokens = [word for word in tokens if word not in stop_words]\n",
        "    \n",
        "  sentence = ' '.join(tokens)\n",
        "  \n",
        "  sentence = TAG_RE.sub('', sen) # html\n",
        "  sentence = re.sub('[^a-zA-Z0-9]', ' ', sentence) # puntuación\n",
        "  sentence = re.sub(r\"\\s+[a-zA-Z]\\s+\", ' ', sentence) #letras sueltas\n",
        "  sentence = re.sub(r'\\s+', ' ', sentence) # espacios excesivos\n",
        "    \n",
        "  return sentence"
      ],
      "execution_count": null,
      "outputs": []
    },
    {
      "cell_type": "code",
      "metadata": {
        "id": "1tdUz7UjvPaO"
      },
      "source": [
        "sentences = list(raw_data['Text'])\n",
        "data = np.array([str.encode(preprocess_text(sen)) for sen in sentences], dtype=object)"
      ],
      "execution_count": null,
      "outputs": []
    },
    {
      "cell_type": "code",
      "metadata": {
        "id": "98sqYnPpvPiW"
      },
      "source": [
        "y = np.array(raw_data['final_price_scaled'])\n",
        "print(y[0:10])"
      ],
      "execution_count": null,
      "outputs": []
    },
    {
      "cell_type": "code",
      "metadata": {
        "id": "LeRJdNi1mfel"
      },
      "source": [
        "x_train, x_test, y_train, y_test = train_test_split(data, y, test_size=0.2)\n",
        "\n",
        "print(x_train.shape)\n",
        "print(x_test.shape)\n",
        "print(y_train.sum())\n",
        "print(y_test.sum())"
      ],
      "execution_count": null,
      "outputs": []
    },
    {
      "cell_type": "code",
      "metadata": {
        "id": "-pOY88Xnn0FG"
      },
      "source": [
        "tfhub_handle_preprocess = \"https://tfhub.dev/tensorflow/bert_en_uncased_preprocess/3\"\n",
        "tfhub_handle_encoder = \"https://tfhub.dev/tensorflow/small_bert/bert_en_uncased_L-4_H-512_A-8/1\""
      ],
      "execution_count": null,
      "outputs": []
    },
    {
      "cell_type": "code",
      "metadata": {
        "id": "-L7J46dP9oZv"
      },
      "source": [
        "from tensorflow.keras import layers\n",
        "from tensorflow.keras import regularizers\n",
        "\n",
        "text_input = tf.keras.layers.Input(shape=(), dtype=tf.string, name='text')\n",
        "\n",
        "preprocessor = hub.KerasLayer(tfhub_handle_preprocess, name='preprocessing') #BERT tokenizer\n",
        "tokenized = preprocessor(text_input)\n",
        "\n",
        "encoder = hub.KerasLayer(tfhub_handle_encoder, trainable=True, name='BERT_encoder') #BERT embedding and encoding\n",
        "embedded = encoder(tokenized)\n",
        "\n",
        "net = embedded['pooled_output']\n",
        "net = tf.keras.layers.Dense(512, activation='relu', kernel_regularizer=tf.keras.regularizers.l2(0.001))(net)\n",
        "net = tf.keras.layers.Dropout(0.5)(net)\n",
        "net = tf.keras.layers.Dense(256, activation='relu', kernel_regularizer=tf.keras.regularizers.l2(0.001))(net)\n",
        "net = tf.keras.layers.Dropout(0.5)(net)\n",
        "net = tf.keras.layers.Dense(128, activation='relu', kernel_regularizer=tf.keras.regularizers.l2(0.001))(net)\n",
        "net = tf.keras.layers.Dropout(0.5)(net)\n",
        "net = tf.keras.layers.Dense(1, activation='sigmoid', name='output')(net)\n",
        "\n",
        "model_BERT = tf.keras.Model(text_input, net)\n",
        "model_BERT.summary()"
      ],
      "execution_count": null,
      "outputs": []
    },
    {
      "cell_type": "code",
      "metadata": {
        "colab": {
          "base_uri": "https://localhost:8080/",
          "height": 730
        },
        "id": "Q9o7fWNYllKb",
        "outputId": "17909616-9eea-44de-8d41-149b074c379a"
      },
      "source": [
        "# Plot it\n",
        "tf.keras.utils.plot_model(model_BERT, show_shapes=True, show_layer_names=True, dpi=64)"
      ],
      "execution_count": null,
      "outputs": [
        {
          "output_type": "execute_result",
          "data": {
            "image/png": "[encoded data removed]",
            "text/plain": [
              "<IPython.core.display.Image object>"
            ]
          },
          "metadata": {},
          "execution_count": 17
        }
      ]
    },
    {
      "cell_type": "code",
      "metadata": {
        "id": "QeCzBvVBlQRn"
      },
      "source": [
        "# Custom compilation\n",
        "epochs = 300\n",
        "steps_per_epoch = 500\n",
        "num_train_steps = steps_per_epoch * epochs\n",
        "num_warmup_steps = int(0.1*num_train_steps)\n",
        "\n",
        "init_lr = 3e-5\n",
        "optimizer = optimization.create_optimizer(init_lr=init_lr,\n",
        "                                          num_train_steps=num_train_steps,\n",
        "                                          num_warmup_steps=num_warmup_steps,\n",
        "                                          optimizer_type='adamw')\n",
        "\n",
        "model_BERT.compile(optimizer=optimizer,\n",
        "                   loss=tf.keras.losses.MeanSquaredError(),\n",
        "                   metrics=[tf.metrics.MeanAbsoluteError()])"
      ],
      "execution_count": null,
      "outputs": []
    },
    {
      "cell_type": "code",
      "source": [
        "class CustomModelCheckpoint(tf.keras.callbacks.Callback):\n",
        "    def __init__(self, model, filepath, save_frequency):\n",
        "        super(CustomModelCheckpoint, self).__init__()\n",
        "        self.save_freq = save_frequency\n",
        "        self.model = model\n",
        "        self.filepath = filepath\n",
        "\n",
        "    def on_epoch_end(self, epoch, logs=None):\n",
        "        if (epoch + 1) % self.save_freq == 0:\n",
        "            self.model.save_weights(self.filepath.format(epoch=epoch))\n",
        "\n",
        "save_frequency = 5\n",
        "filepath = \"model_BERT_weights.h5\"\n",
        "callbacks = [CustomModelCheckpoint(model_BERT, filepath, save_frequency)]"
      ],
      "metadata": {
        "id": "ZNrbIfe4vGtZ"
      },
      "execution_count": null,
      "outputs": []
    },
    {
      "cell_type": "code",
      "source": [
        "model_BERT.load_weights(filepath)"
      ],
      "metadata": {
        "id": "7QUfEviHTAkv"
      },
      "execution_count": null,
      "outputs": []
    },
    {
      "cell_type": "code",
      "metadata": {
        "colab": {
          "base_uri": "https://localhost:8080/"
        },
        "id": "nXtCV0oqmaS0",
        "outputId": "78aa69ea-21ca-4a8e-958d-bf645b1033bf"
      },
      "source": [
        "# Training\n",
        "history = model_BERT.fit(x=x_train, y=y_train, epochs=epochs, validation_split=0.1, callbacks=callbacks)"
      ],
      "execution_count": null,
      "outputs": [
        {
          "output_type": "stream",
          "name": "stdout",
          "text": [
            "Epoch 1/300\n",
            "23/23 [==============================] - 11s 255ms/step - loss: 0.7575 - mean_absolute_error: 0.0667 - val_loss: 0.7549 - val_mean_absolute_error: 0.0527\n",
            "Epoch 2/300\n",
            "23/23 [==============================] - 6s 266ms/step - loss: 0.7576 - mean_absolute_error: 0.0659 - val_loss: 0.7548 - val_mean_absolute_error: 0.0521\n",
            "Epoch 3/300\n",
            "23/23 [==============================] - 6s 248ms/step - loss: 0.7576 - mean_absolute_error: 0.0672 - val_loss: 0.7548 - val_mean_absolute_error: 0.0523\n",
            "Epoch 4/300\n",
            "23/23 [==============================] - 5s 237ms/step - loss: 0.7581 - mean_absolute_error: 0.0685 - val_loss: 0.7548 - val_mean_absolute_error: 0.0529\n",
            "Epoch 5/300\n",
            "23/23 [==============================] - 7s 288ms/step - loss: 0.7578 - mean_absolute_error: 0.0691 - val_loss: 0.7545 - val_mean_absolute_error: 0.0517\n",
            "Epoch 6/300\n",
            "23/23 [==============================] - 5s 236ms/step - loss: 0.7570 - mean_absolute_error: 0.0652 - val_loss: 0.7543 - val_mean_absolute_error: 0.0506\n",
            "Epoch 7/300\n",
            "23/23 [==============================] - 6s 273ms/step - loss: 0.7570 - mean_absolute_error: 0.0649 - val_loss: 0.7543 - val_mean_absolute_error: 0.0516\n",
            "Epoch 8/300\n",
            "23/23 [==============================] - 6s 239ms/step - loss: 0.7577 - mean_absolute_error: 0.0698 - val_loss: 0.7542 - val_mean_absolute_error: 0.0528\n",
            "Epoch 9/300\n",
            "23/23 [==============================] - 6s 256ms/step - loss: 0.7571 - mean_absolute_error: 0.0678 - val_loss: 0.7541 - val_mean_absolute_error: 0.0528\n",
            "Epoch 10/300\n",
            "23/23 [==============================] - 6s 280ms/step - loss: 0.7560 - mean_absolute_error: 0.0629 - val_loss: 0.7537 - val_mean_absolute_error: 0.0515\n",
            "Epoch 11/300\n",
            "23/23 [==============================] - 5s 238ms/step - loss: 0.7555 - mean_absolute_error: 0.0601 - val_loss: 0.7537 - val_mean_absolute_error: 0.0539\n",
            "Epoch 12/300\n",
            "23/23 [==============================] - 6s 274ms/step - loss: 0.7561 - mean_absolute_error: 0.0650 - val_loss: 0.7533 - val_mean_absolute_error: 0.0518\n",
            "Epoch 13/300\n",
            "23/23 [==============================] - 5s 235ms/step - loss: 0.7558 - mean_absolute_error: 0.0661 - val_loss: 0.7530 - val_mean_absolute_error: 0.0515\n",
            "Epoch 14/300\n",
            "23/23 [==============================] - 6s 269ms/step - loss: 0.7557 - mean_absolute_error: 0.0669 - val_loss: 0.7525 - val_mean_absolute_error: 0.0497\n",
            "Epoch 15/300\n",
            "23/23 [==============================] - 6s 264ms/step - loss: 0.7548 - mean_absolute_error: 0.0617 - val_loss: 0.7525 - val_mean_absolute_error: 0.0531\n",
            "Epoch 16/300\n",
            "23/23 [==============================] - 5s 236ms/step - loss: 0.7544 - mean_absolute_error: 0.0631 - val_loss: 0.7520 - val_mean_absolute_error: 0.0513\n",
            "Epoch 17/300\n",
            "23/23 [==============================] - 6s 273ms/step - loss: 0.7543 - mean_absolute_error: 0.0637 - val_loss: 0.7516 - val_mean_absolute_error: 0.0506\n",
            "Epoch 18/300\n",
            "23/23 [==============================] - 5s 235ms/step - loss: 0.7541 - mean_absolute_error: 0.0640 - val_loss: 0.7516 - val_mean_absolute_error: 0.0535\n",
            "Epoch 19/300\n",
            "23/23 [==============================] - 6s 273ms/step - loss: 0.7540 - mean_absolute_error: 0.0639 - val_loss: 0.7508 - val_mean_absolute_error: 0.0502\n",
            "Epoch 20/300\n",
            "23/23 [==============================] - 6s 254ms/step - loss: 0.7533 - mean_absolute_error: 0.0642 - val_loss: 0.7506 - val_mean_absolute_error: 0.0515\n",
            "Epoch 21/300\n",
            "23/23 [==============================] - 6s 258ms/step - loss: 0.7525 - mean_absolute_error: 0.0625 - val_loss: 0.7505 - val_mean_absolute_error: 0.0549\n",
            "Epoch 22/300\n",
            "23/23 [==============================] - 6s 258ms/step - loss: 0.7521 - mean_absolute_error: 0.0633 - val_loss: 0.7496 - val_mean_absolute_error: 0.0506\n",
            "Epoch 23/300\n",
            "23/23 [==============================] - 5s 236ms/step - loss: 0.7517 - mean_absolute_error: 0.0616 - val_loss: 0.7492 - val_mean_absolute_error: 0.0522\n",
            "Epoch 24/300\n",
            "23/23 [==============================] - 6s 275ms/step - loss: 0.7513 - mean_absolute_error: 0.0635 - val_loss: 0.7488 - val_mean_absolute_error: 0.0521\n",
            "Epoch 25/300\n",
            "23/23 [==============================] - 6s 251ms/step - loss: 0.7522 - mean_absolute_error: 0.0699 - val_loss: 0.7482 - val_mean_absolute_error: 0.0508\n",
            "Epoch 26/300\n",
            "23/23 [==============================] - 6s 261ms/step - loss: 0.7505 - mean_absolute_error: 0.0639 - val_loss: 0.7474 - val_mean_absolute_error: 0.0476\n",
            "Epoch 27/300\n",
            "23/23 [==============================] - 6s 252ms/step - loss: 0.7500 - mean_absolute_error: 0.0636 - val_loss: 0.7479 - val_mean_absolute_error: 0.0575\n",
            "Epoch 28/300\n",
            "23/23 [==============================] - 5s 235ms/step - loss: 0.7495 - mean_absolute_error: 0.0648 - val_loss: 0.7464 - val_mean_absolute_error: 0.0496\n",
            "Epoch 29/300\n",
            "23/23 [==============================] - 6s 277ms/step - loss: 0.7485 - mean_absolute_error: 0.0627 - val_loss: 0.7460 - val_mean_absolute_error: 0.0513\n",
            "Epoch 30/300\n",
            "23/23 [==============================] - 6s 250ms/step - loss: 0.7476 - mean_absolute_error: 0.0602 - val_loss: 0.7456 - val_mean_absolute_error: 0.0531\n",
            "Epoch 31/300\n",
            "23/23 [==============================] - 6s 284ms/step - loss: 0.7469 - mean_absolute_error: 0.0605 - val_loss: 0.7447 - val_mean_absolute_error: 0.0511\n",
            "Epoch 32/300\n",
            "23/23 [==============================] - 5s 235ms/step - loss: 0.7476 - mean_absolute_error: 0.0661 - val_loss: 0.7447 - val_mean_absolute_error: 0.0571\n",
            "Epoch 33/300\n",
            "23/23 [==============================] - 6s 257ms/step - loss: 0.7464 - mean_absolute_error: 0.0644 - val_loss: 0.7434 - val_mean_absolute_error: 0.0510\n",
            "Epoch 34/300\n",
            "23/23 [==============================] - 6s 261ms/step - loss: 0.7448 - mean_absolute_error: 0.0604 - val_loss: 0.7433 - val_mean_absolute_error: 0.0558\n",
            "Epoch 35/300\n",
            "23/23 [==============================] - 6s 248ms/step - loss: 0.7441 - mean_absolute_error: 0.0597 - val_loss: 0.7423 - val_mean_absolute_error: 0.0541\n",
            "Epoch 36/300\n",
            "23/23 [==============================] - 6s 277ms/step - loss: 0.7441 - mean_absolute_error: 0.0629 - val_loss: 0.7414 - val_mean_absolute_error: 0.0525\n",
            "Epoch 37/300\n",
            "23/23 [==============================] - 5s 234ms/step - loss: 0.7432 - mean_absolute_error: 0.0625 - val_loss: 0.7402 - val_mean_absolute_error: 0.0467\n",
            "Epoch 38/300\n",
            "23/23 [==============================] - 6s 261ms/step - loss: 0.7423 - mean_absolute_error: 0.0626 - val_loss: 0.7397 - val_mean_absolute_error: 0.0492\n",
            "Epoch 39/300\n",
            "23/23 [==============================] - 6s 250ms/step - loss: 0.7416 - mean_absolute_error: 0.0621 - val_loss: 0.7391 - val_mean_absolute_error: 0.0506\n",
            "Epoch 40/300\n",
            "23/23 [==============================] - 6s 251ms/step - loss: 0.7414 - mean_absolute_error: 0.0639 - val_loss: 0.7382 - val_mean_absolute_error: 0.0494\n",
            "Epoch 41/300\n",
            "23/23 [==============================] - 6s 273ms/step - loss: 0.7405 - mean_absolute_error: 0.0650 - val_loss: 0.7376 - val_mean_absolute_error: 0.0509\n",
            "Epoch 42/300\n",
            "23/23 [==============================] - 5s 237ms/step - loss: 0.7394 - mean_absolute_error: 0.0651 - val_loss: 0.7365 - val_mean_absolute_error: 0.0496\n",
            "Epoch 43/300\n",
            "23/23 [==============================] - 6s 283ms/step - loss: 0.7386 - mean_absolute_error: 0.0647 - val_loss: 0.7365 - val_mean_absolute_error: 0.0577\n",
            "Epoch 44/300\n",
            "23/23 [==============================] - 5s 236ms/step - loss: 0.7371 - mean_absolute_error: 0.0615 - val_loss: 0.7356 - val_mean_absolute_error: 0.0581\n",
            "Epoch 45/300\n",
            "23/23 [==============================] - 6s 267ms/step - loss: 0.7367 - mean_absolute_error: 0.0646 - val_loss: 0.7335 - val_mean_absolute_error: 0.0464\n",
            "Epoch 46/300\n",
            "23/23 [==============================] - 6s 258ms/step - loss: 0.7352 - mean_absolute_error: 0.0611 - val_loss: 0.7335 - val_mean_absolute_error: 0.0565\n",
            "Epoch 47/300\n",
            "23/23 [==============================] - 5s 238ms/step - loss: 0.7348 - mean_absolute_error: 0.0618 - val_loss: 0.7315 - val_mean_absolute_error: 0.0461\n",
            "Epoch 48/300\n",
            "23/23 [==============================] - 6s 273ms/step - loss: 0.7336 - mean_absolute_error: 0.0622 - val_loss: 0.7317 - val_mean_absolute_error: 0.0566\n",
            "Epoch 49/300\n",
            "23/23 [==============================] - 5s 237ms/step - loss: 0.7329 - mean_absolute_error: 0.0628 - val_loss: 0.7297 - val_mean_absolute_error: 0.0459\n",
            "Epoch 50/300\n",
            "23/23 [==============================] - 7s 299ms/step - loss: 0.7318 - mean_absolute_error: 0.0628 - val_loss: 0.7288 - val_mean_absolute_error: 0.0483\n",
            "Epoch 51/300\n",
            "23/23 [==============================] - 6s 241ms/step - loss: 0.7303 - mean_absolute_error: 0.0593 - val_loss: 0.7280 - val_mean_absolute_error: 0.0503\n",
            "Epoch 52/300\n",
            "23/23 [==============================] - 6s 251ms/step - loss: 0.7301 - mean_absolute_error: 0.0644 - val_loss: 0.7275 - val_mean_absolute_error: 0.0545\n",
            "Epoch 53/300\n",
            "23/23 [==============================] - 6s 267ms/step - loss: 0.7279 - mean_absolute_error: 0.0580 - val_loss: 0.7258 - val_mean_absolute_error: 0.0488\n",
            "Epoch 54/300\n",
            "23/23 [==============================] - 5s 237ms/step - loss: 0.7275 - mean_absolute_error: 0.0597 - val_loss: 0.7256 - val_mean_absolute_error: 0.0573\n",
            "Epoch 55/300\n",
            "23/23 [==============================] - 7s 291ms/step - loss: 0.7264 - mean_absolute_error: 0.0605 - val_loss: 0.7232 - val_mean_absolute_error: 0.0444\n",
            "Epoch 56/300\n",
            "23/23 [==============================] - 5s 236ms/step - loss: 0.7258 - mean_absolute_error: 0.0623 - val_loss: 0.7223 - val_mean_absolute_error: 0.0461\n",
            "Epoch 57/300\n",
            "23/23 [==============================] - 6s 266ms/step - loss: 0.7245 - mean_absolute_error: 0.0631 - val_loss: 0.7225 - val_mean_absolute_error: 0.0583\n",
            "Epoch 58/300\n",
            "23/23 [==============================] - 6s 253ms/step - loss: 0.7233 - mean_absolute_error: 0.0622 - val_loss: 0.7202 - val_mean_absolute_error: 0.0481\n",
            "Epoch 59/300\n",
            "23/23 [==============================] - 5s 236ms/step - loss: 0.7220 - mean_absolute_error: 0.0620 - val_loss: 0.7193 - val_mean_absolute_error: 0.0509\n",
            "Epoch 60/300\n",
            "23/23 [==============================] - 7s 289ms/step - loss: 0.7212 - mean_absolute_error: 0.0627 - val_loss: 0.7185 - val_mean_absolute_error: 0.0554\n",
            "Epoch 61/300\n",
            "23/23 [==============================] - 5s 234ms/step - loss: 0.7197 - mean_absolute_error: 0.0610 - val_loss: 0.7170 - val_mean_absolute_error: 0.0537\n",
            "Epoch 62/300\n",
            "23/23 [==============================] - 6s 271ms/step - loss: 0.7182 - mean_absolute_error: 0.0592 - val_loss: 0.7154 - val_mean_absolute_error: 0.0482\n",
            "Epoch 63/300\n",
            "23/23 [==============================] - 6s 241ms/step - loss: 0.7175 - mean_absolute_error: 0.0631 - val_loss: 0.7146 - val_mean_absolute_error: 0.0526\n",
            "Epoch 64/300\n",
            "23/23 [==============================] - 6s 244ms/step - loss: 0.7171 - mean_absolute_error: 0.0669 - val_loss: 0.7128 - val_mean_absolute_error: 0.0459\n",
            "Epoch 65/300\n",
            "23/23 [==============================] - 7s 283ms/step - loss: 0.7147 - mean_absolute_error: 0.0604 - val_loss: 0.7114 - val_mean_absolute_error: 0.0447\n",
            "Epoch 66/300\n",
            "23/23 [==============================] - 5s 237ms/step - loss: 0.7130 - mean_absolute_error: 0.0590 - val_loss: 0.7101 - val_mean_absolute_error: 0.0454\n",
            "Epoch 67/300\n",
            "23/23 [==============================] - 6s 275ms/step - loss: 0.7120 - mean_absolute_error: 0.0595 - val_loss: 0.7089 - val_mean_absolute_error: 0.0471\n",
            "Epoch 68/300\n",
            "23/23 [==============================] - 5s 236ms/step - loss: 0.7104 - mean_absolute_error: 0.0585 - val_loss: 0.7078 - val_mean_absolute_error: 0.0490\n",
            "Epoch 69/300\n",
            "23/23 [==============================] - 6s 254ms/step - loss: 0.7094 - mean_absolute_error: 0.0628 - val_loss: 0.7061 - val_mean_absolute_error: 0.0460\n",
            "Epoch 70/300\n",
            "23/23 [==============================] - 6s 273ms/step - loss: 0.7081 - mean_absolute_error: 0.0602 - val_loss: 0.7054 - val_mean_absolute_error: 0.0528\n",
            "Epoch 71/300\n",
            "23/23 [==============================] - 5s 236ms/step - loss: 0.7067 - mean_absolute_error: 0.0618 - val_loss: 0.7041 - val_mean_absolute_error: 0.0528\n",
            "Epoch 72/300\n",
            "23/23 [==============================] - 6s 275ms/step - loss: 0.7049 - mean_absolute_error: 0.0583 - val_loss: 0.7025 - val_mean_absolute_error: 0.0498\n",
            "Epoch 73/300\n",
            "23/23 [==============================] - 5s 237ms/step - loss: 0.7037 - mean_absolute_error: 0.0584 - val_loss: 0.7014 - val_mean_absolute_error: 0.0529\n",
            "Epoch 74/300\n",
            "23/23 [==============================] - 6s 266ms/step - loss: 0.7027 - mean_absolute_error: 0.0614 - val_loss: 0.6993 - val_mean_absolute_error: 0.0473\n",
            "Epoch 75/300\n",
            "23/23 [==============================] - 6s 260ms/step - loss: 0.7005 - mean_absolute_error: 0.0590 - val_loss: 0.6983 - val_mean_absolute_error: 0.0500\n",
            "Epoch 76/300\n",
            "23/23 [==============================] - 6s 254ms/step - loss: 0.6989 - mean_absolute_error: 0.0574 - val_loss: 0.6971 - val_mean_absolute_error: 0.0531\n",
            "Epoch 77/300\n",
            "23/23 [==============================] - 6s 267ms/step - loss: 0.6979 - mean_absolute_error: 0.0597 - val_loss: 0.6962 - val_mean_absolute_error: 0.0572\n",
            "Epoch 78/300\n",
            "23/23 [==============================] - 5s 235ms/step - loss: 0.6964 - mean_absolute_error: 0.0597 - val_loss: 0.6945 - val_mean_absolute_error: 0.0565\n",
            "Epoch 79/300\n",
            "23/23 [==============================] - 6s 275ms/step - loss: 0.6949 - mean_absolute_error: 0.0601 - val_loss: 0.6929 - val_mean_absolute_error: 0.0545\n",
            "Epoch 80/300\n",
            "23/23 [==============================] - 6s 255ms/step - loss: 0.6935 - mean_absolute_error: 0.0609 - val_loss: 0.6918 - val_mean_absolute_error: 0.0588\n",
            "Epoch 81/300\n",
            "23/23 [==============================] - 6s 257ms/step - loss: 0.6914 - mean_absolute_error: 0.0582 - val_loss: 0.6888 - val_mean_absolute_error: 0.0454\n",
            "Epoch 82/300\n",
            "23/23 [==============================] - 6s 253ms/step - loss: 0.6907 - mean_absolute_error: 0.0610 - val_loss: 0.6874 - val_mean_absolute_error: 0.0452\n",
            "Epoch 83/300\n",
            "23/23 [==============================] - 5s 238ms/step - loss: 0.6886 - mean_absolute_error: 0.0594 - val_loss: 0.6858 - val_mean_absolute_error: 0.0467\n",
            "Epoch 84/300\n",
            "23/23 [==============================] - 6s 275ms/step - loss: 0.6869 - mean_absolute_error: 0.0579 - val_loss: 0.6846 - val_mean_absolute_error: 0.0503\n",
            "Epoch 85/300\n",
            "23/23 [==============================] - 6s 252ms/step - loss: 0.6854 - mean_absolute_error: 0.0604 - val_loss: 0.6830 - val_mean_absolute_error: 0.0512\n",
            "Epoch 86/300\n",
            "23/23 [==============================] - 6s 268ms/step - loss: 0.6842 - mean_absolute_error: 0.0609 - val_loss: 0.6813 - val_mean_absolute_error: 0.0498\n",
            "Epoch 87/300\n",
            "23/23 [==============================] - 6s 244ms/step - loss: 0.6821 - mean_absolute_error: 0.0578 - val_loss: 0.6795 - val_mean_absolute_error: 0.0493\n",
            "Epoch 88/300\n",
            "23/23 [==============================] - 6s 254ms/step - loss: 0.6802 - mean_absolute_error: 0.0565 - val_loss: 0.6779 - val_mean_absolute_error: 0.0501\n",
            "Epoch 89/300\n",
            "23/23 [==============================] - 6s 266ms/step - loss: 0.6786 - mean_absolute_error: 0.0572 - val_loss: 0.6765 - val_mean_absolute_error: 0.0537\n",
            "Epoch 90/300\n",
            "23/23 [==============================] - 6s 251ms/step - loss: 0.6774 - mean_absolute_error: 0.0605 - val_loss: 0.6745 - val_mean_absolute_error: 0.0506\n",
            "Epoch 91/300\n",
            "23/23 [==============================] - 6s 278ms/step - loss: 0.6761 - mean_absolute_error: 0.0622 - val_loss: 0.6724 - val_mean_absolute_error: 0.0466\n",
            "Epoch 92/300\n",
            "23/23 [==============================] - 5s 237ms/step - loss: 0.6736 - mean_absolute_error: 0.0578 - val_loss: 0.6707 - val_mean_absolute_error: 0.0466\n",
            "Epoch 93/300\n",
            "23/23 [==============================] - 6s 265ms/step - loss: 0.6722 - mean_absolute_error: 0.0596 - val_loss: 0.6692 - val_mean_absolute_error: 0.0485\n",
            "Epoch 94/300\n",
            "23/23 [==============================] - 6s 252ms/step - loss: 0.6700 - mean_absolute_error: 0.0571 - val_loss: 0.6676 - val_mean_absolute_error: 0.0517\n",
            "Epoch 95/300\n",
            "23/23 [==============================] - 6s 251ms/step - loss: 0.6683 - mean_absolute_error: 0.0574 - val_loss: 0.6657 - val_mean_absolute_error: 0.0471\n",
            "Epoch 96/300\n",
            "23/23 [==============================] - 6s 277ms/step - loss: 0.6666 - mean_absolute_error: 0.0562 - val_loss: 0.6640 - val_mean_absolute_error: 0.0479\n",
            "Epoch 97/300\n",
            "23/23 [==============================] - 5s 238ms/step - loss: 0.6652 - mean_absolute_error: 0.0592 - val_loss: 0.6620 - val_mean_absolute_error: 0.0445\n",
            "Epoch 98/300\n",
            "23/23 [==============================] - 6s 281ms/step - loss: 0.6637 - mean_absolute_error: 0.0591 - val_loss: 0.6601 - val_mean_absolute_error: 0.0432\n",
            "Epoch 99/300\n",
            "23/23 [==============================] - 6s 238ms/step - loss: 0.6611 - mean_absolute_error: 0.0569 - val_loss: 0.6588 - val_mean_absolute_error: 0.0499\n",
            "Epoch 100/300\n",
            "23/23 [==============================] - 6s 275ms/step - loss: 0.6595 - mean_absolute_error: 0.0584 - val_loss: 0.6573 - val_mean_absolute_error: 0.0525\n",
            "Epoch 101/300\n",
            "23/23 [==============================] - 6s 261ms/step - loss: 0.6571 - mean_absolute_error: 0.0545 - val_loss: 0.6549 - val_mean_absolute_error: 0.0467\n",
            "Epoch 102/300\n",
            "23/23 [==============================] - 5s 235ms/step - loss: 0.6555 - mean_absolute_error: 0.0571 - val_loss: 0.6529 - val_mean_absolute_error: 0.0457\n",
            "Epoch 103/300\n",
            "23/23 [==============================] - 6s 273ms/step - loss: 0.6541 - mean_absolute_error: 0.0580 - val_loss: 0.6512 - val_mean_absolute_error: 0.0486\n",
            "Epoch 104/300\n",
            "23/23 [==============================] - 5s 236ms/step - loss: 0.6525 - mean_absolute_error: 0.0596 - val_loss: 0.6496 - val_mean_absolute_error: 0.0510\n",
            "Epoch 105/300\n",
            "23/23 [==============================] - 6s 278ms/step - loss: 0.6501 - mean_absolute_error: 0.0572 - val_loss: 0.6476 - val_mean_absolute_error: 0.0497\n",
            "Epoch 106/300\n",
            "23/23 [==============================] - 6s 250ms/step - loss: 0.6479 - mean_absolute_error: 0.0552 - val_loss: 0.6454 - val_mean_absolute_error: 0.0482\n",
            "Epoch 107/300\n",
            "23/23 [==============================] - 5s 236ms/step - loss: 0.6457 - mean_absolute_error: 0.0542 - val_loss: 0.6430 - val_mean_absolute_error: 0.0418\n",
            "Epoch 108/300\n",
            "23/23 [==============================] - 6s 276ms/step - loss: 0.6442 - mean_absolute_error: 0.0586 - val_loss: 0.6416 - val_mean_absolute_error: 0.0484\n",
            "Epoch 109/300\n",
            "23/23 [==============================] - 5s 236ms/step - loss: 0.6420 - mean_absolute_error: 0.0549 - val_loss: 0.6391 - val_mean_absolute_error: 0.0434\n",
            "Epoch 110/300\n",
            "23/23 [==============================] - 7s 294ms/step - loss: 0.6401 - mean_absolute_error: 0.0558 - val_loss: 0.6371 - val_mean_absolute_error: 0.0404\n",
            "Epoch 111/300\n",
            "23/23 [==============================] - 6s 239ms/step - loss: 0.6387 - mean_absolute_error: 0.0590 - val_loss: 0.6357 - val_mean_absolute_error: 0.0482\n",
            "Epoch 112/300\n",
            "23/23 [==============================] - 6s 258ms/step - loss: 0.6367 - mean_absolute_error: 0.0585 - val_loss: 0.6331 - val_mean_absolute_error: 0.0415\n",
            "Epoch 113/300\n",
            "23/23 [==============================] - 6s 261ms/step - loss: 0.6346 - mean_absolute_error: 0.0563 - val_loss: 0.6314 - val_mean_absolute_error: 0.0462\n",
            "Epoch 114/300\n",
            "23/23 [==============================] - 5s 236ms/step - loss: 0.6319 - mean_absolute_error: 0.0549 - val_loss: 0.6298 - val_mean_absolute_error: 0.0497\n",
            "Epoch 115/300\n",
            "23/23 [==============================] - 7s 289ms/step - loss: 0.6301 - mean_absolute_error: 0.0550 - val_loss: 0.6279 - val_mean_absolute_error: 0.0507\n",
            "Epoch 116/300\n",
            "23/23 [==============================] - 5s 237ms/step - loss: 0.6279 - mean_absolute_error: 0.0547 - val_loss: 0.6258 - val_mean_absolute_error: 0.0482\n",
            "Epoch 117/300\n",
            "23/23 [==============================] - 6s 262ms/step - loss: 0.6259 - mean_absolute_error: 0.0557 - val_loss: 0.6235 - val_mean_absolute_error: 0.0467\n",
            "Epoch 118/300\n",
            "23/23 [==============================] - 6s 250ms/step - loss: 0.6238 - mean_absolute_error: 0.0537 - val_loss: 0.6216 - val_mean_absolute_error: 0.0484\n",
            "Epoch 119/300\n",
            "23/23 [==============================] - 5s 237ms/step - loss: 0.6218 - mean_absolute_error: 0.0526 - val_loss: 0.6197 - val_mean_absolute_error: 0.0497\n",
            "Epoch 120/300\n",
            "23/23 [==============================] - 7s 289ms/step - loss: 0.6198 - mean_absolute_error: 0.0551 - val_loss: 0.6173 - val_mean_absolute_error: 0.0474\n",
            "Epoch 121/300\n",
            "23/23 [==============================] - 5s 239ms/step - loss: 0.6173 - mean_absolute_error: 0.0526 - val_loss: 0.6154 - val_mean_absolute_error: 0.0506\n",
            "Epoch 122/300\n",
            "23/23 [==============================] - 6s 274ms/step - loss: 0.6161 - mean_absolute_error: 0.0556 - val_loss: 0.6129 - val_mean_absolute_error: 0.0457\n",
            "Epoch 123/300\n",
            "23/23 [==============================] - 5s 236ms/step - loss: 0.6131 - mean_absolute_error: 0.0527 - val_loss: 0.6109 - val_mean_absolute_error: 0.0467\n",
            "Epoch 124/300\n",
            "23/23 [==============================] - 6s 258ms/step - loss: 0.6111 - mean_absolute_error: 0.0529 - val_loss: 0.6085 - val_mean_absolute_error: 0.0430\n",
            "Epoch 125/300\n",
            "23/23 [==============================] - 6s 279ms/step - loss: 0.6091 - mean_absolute_error: 0.0547 - val_loss: 0.6068 - val_mean_absolute_error: 0.0477\n",
            "Epoch 126/300\n",
            "23/23 [==============================] - 5s 236ms/step - loss: 0.6070 - mean_absolute_error: 0.0548 - val_loss: 0.6050 - val_mean_absolute_error: 0.0492\n",
            "Epoch 127/300\n",
            "23/23 [==============================] - 6s 275ms/step - loss: 0.6049 - mean_absolute_error: 0.0549 - val_loss: 0.6026 - val_mean_absolute_error: 0.0482\n",
            "Epoch 128/300\n",
            "23/23 [==============================] - 5s 238ms/step - loss: 0.6026 - mean_absolute_error: 0.0534 - val_loss: 0.5999 - val_mean_absolute_error: 0.0416\n",
            "Epoch 129/300\n",
            "23/23 [==============================] - 6s 263ms/step - loss: 0.6004 - mean_absolute_error: 0.0544 - val_loss: 0.5974 - val_mean_absolute_error: 0.0393\n",
            "Epoch 130/300\n",
            "23/23 [==============================] - 6s 266ms/step - loss: 0.5983 - mean_absolute_error: 0.0532 - val_loss: 0.5957 - val_mean_absolute_error: 0.0482\n",
            "Epoch 131/300\n",
            "23/23 [==============================] - 5s 239ms/step - loss: 0.5957 - mean_absolute_error: 0.0523 - val_loss: 0.5930 - val_mean_absolute_error: 0.0404\n",
            "Epoch 132/300\n",
            "23/23 [==============================] - 6s 275ms/step - loss: 0.5936 - mean_absolute_error: 0.0535 - val_loss: 0.5910 - val_mean_absolute_error: 0.0430\n",
            "Epoch 133/300\n",
            "23/23 [==============================] - 5s 238ms/step - loss: 0.5915 - mean_absolute_error: 0.0539 - val_loss: 0.5889 - val_mean_absolute_error: 0.0444\n",
            "Epoch 134/300\n",
            "23/23 [==============================] - 7s 285ms/step - loss: 0.5892 - mean_absolute_error: 0.0523 - val_loss: 0.5866 - val_mean_absolute_error: 0.0441\n",
            "Epoch 135/300\n",
            "23/23 [==============================] - 6s 251ms/step - loss: 0.5868 - mean_absolute_error: 0.0517 - val_loss: 0.5846 - val_mean_absolute_error: 0.0465\n",
            "Epoch 136/300\n",
            "23/23 [==============================] - 6s 265ms/step - loss: 0.5846 - mean_absolute_error: 0.0525 - val_loss: 0.5821 - val_mean_absolute_error: 0.0409\n",
            "Epoch 137/300\n",
            "23/23 [==============================] - 6s 257ms/step - loss: 0.5827 - mean_absolute_error: 0.0551 - val_loss: 0.5797 - val_mean_absolute_error: 0.0409\n",
            "Epoch 138/300\n",
            "23/23 [==============================] - 5s 239ms/step - loss: 0.5804 - mean_absolute_error: 0.0532 - val_loss: 0.5774 - val_mean_absolute_error: 0.0429\n",
            "Epoch 139/300\n",
            "23/23 [==============================] - 6s 276ms/step - loss: 0.5779 - mean_absolute_error: 0.0528 - val_loss: 0.5756 - val_mean_absolute_error: 0.0484\n",
            "Epoch 140/300\n",
            "23/23 [==============================] - 6s 252ms/step - loss: 0.5755 - mean_absolute_error: 0.0520 - val_loss: 0.5732 - val_mean_absolute_error: 0.0455\n",
            "Epoch 141/300\n",
            "23/23 [==============================] - 6s 278ms/step - loss: 0.5735 - mean_absolute_error: 0.0532 - val_loss: 0.5710 - val_mean_absolute_error: 0.0463\n",
            "Epoch 142/300\n",
            "23/23 [==============================] - 6s 243ms/step - loss: 0.5714 - mean_absolute_error: 0.0552 - val_loss: 0.5685 - val_mean_absolute_error: 0.0460\n",
            "Epoch 143/300\n",
            "23/23 [==============================] - 6s 254ms/step - loss: 0.5687 - mean_absolute_error: 0.0519 - val_loss: 0.5670 - val_mean_absolute_error: 0.0531\n",
            "Epoch 144/300\n",
            "23/23 [==============================] - 6s 265ms/step - loss: 0.5667 - mean_absolute_error: 0.0552 - val_loss: 0.5652 - val_mean_absolute_error: 0.0553\n",
            "Epoch 145/300\n",
            "23/23 [==============================] - 6s 250ms/step - loss: 0.5643 - mean_absolute_error: 0.0521 - val_loss: 0.5623 - val_mean_absolute_error: 0.0530\n",
            "Epoch 146/300\n",
            "23/23 [==============================] - 6s 275ms/step - loss: 0.5611 - mean_absolute_error: 0.0492 - val_loss: 0.5594 - val_mean_absolute_error: 0.0441\n",
            "Epoch 147/300\n",
            "23/23 [==============================] - 5s 235ms/step - loss: 0.5596 - mean_absolute_error: 0.0540 - val_loss: 0.5574 - val_mean_absolute_error: 0.0487\n",
            "Epoch 148/300\n",
            "23/23 [==============================] - 6s 256ms/step - loss: 0.5571 - mean_absolute_error: 0.0511 - val_loss: 0.5548 - val_mean_absolute_error: 0.0460\n",
            "Epoch 149/300\n",
            "23/23 [==============================] - 6s 257ms/step - loss: 0.5545 - mean_absolute_error: 0.0504 - val_loss: 0.5528 - val_mean_absolute_error: 0.0518\n",
            "Epoch 150/300\n",
            "23/23 [==============================] - 6s 250ms/step - loss: 0.5530 - mean_absolute_error: 0.0567 - val_loss: 0.5504 - val_mean_absolute_error: 0.0500\n",
            "Epoch 151/300\n",
            "23/23 [==============================] - 6s 279ms/step - loss: 0.5499 - mean_absolute_error: 0.0523 - val_loss: 0.5470 - val_mean_absolute_error: 0.0387\n",
            "Epoch 152/300\n",
            "23/23 [==============================] - 5s 239ms/step - loss: 0.5480 - mean_absolute_error: 0.0547 - val_loss: 0.5452 - val_mean_absolute_error: 0.0464\n",
            "Epoch 153/300\n",
            "23/23 [==============================] - 6s 279ms/step - loss: 0.5454 - mean_absolute_error: 0.0517 - val_loss: 0.5426 - val_mean_absolute_error: 0.0422\n",
            "Epoch 154/300\n",
            "23/23 [==============================] - 6s 239ms/step - loss: 0.5429 - mean_absolute_error: 0.0525 - val_loss: 0.5403 - val_mean_absolute_error: 0.0451\n",
            "Epoch 155/300\n",
            "23/23 [==============================] - 6s 264ms/step - loss: 0.5405 - mean_absolute_error: 0.0509 - val_loss: 0.5377 - val_mean_absolute_error: 0.0419\n",
            "Epoch 156/300\n",
            "23/23 [==============================] - 6s 265ms/step - loss: 0.5383 - mean_absolute_error: 0.0540 - val_loss: 0.5355 - val_mean_absolute_error: 0.0437\n",
            "Epoch 157/300\n",
            "23/23 [==============================] - 5s 237ms/step - loss: 0.5354 - mean_absolute_error: 0.0490 - val_loss: 0.5328 - val_mean_absolute_error: 0.0397\n",
            "Epoch 158/300\n",
            "23/23 [==============================] - 6s 276ms/step - loss: 0.5332 - mean_absolute_error: 0.0513 - val_loss: 0.5304 - val_mean_absolute_error: 0.0409\n",
            "Epoch 159/300\n",
            "23/23 [==============================] - 5s 236ms/step - loss: 0.5307 - mean_absolute_error: 0.0520 - val_loss: 0.5281 - val_mean_absolute_error: 0.0442\n",
            "Epoch 160/300\n",
            "23/23 [==============================] - 7s 288ms/step - loss: 0.5284 - mean_absolute_error: 0.0530 - val_loss: 0.5253 - val_mean_absolute_error: 0.0378\n",
            "Epoch 161/300\n",
            "23/23 [==============================] - 6s 247ms/step - loss: 0.5259 - mean_absolute_error: 0.0526 - val_loss: 0.5234 - val_mean_absolute_error: 0.0457\n",
            "Epoch 162/300\n",
            "23/23 [==============================] - 5s 238ms/step - loss: 0.5231 - mean_absolute_error: 0.0491 - val_loss: 0.5210 - val_mean_absolute_error: 0.0484\n",
            "Epoch 163/300\n",
            "23/23 [==============================] - 6s 276ms/step - loss: 0.5206 - mean_absolute_error: 0.0494 - val_loss: 0.5194 - val_mean_absolute_error: 0.0541\n",
            "Epoch 164/300\n",
            "23/23 [==============================] - 5s 239ms/step - loss: 0.5185 - mean_absolute_error: 0.0516 - val_loss: 0.5170 - val_mean_absolute_error: 0.0548\n",
            "Epoch 165/300\n",
            "23/23 [==============================] - 7s 294ms/step - loss: 0.5164 - mean_absolute_error: 0.0521 - val_loss: 0.5136 - val_mean_absolute_error: 0.0451\n",
            "Epoch 166/300\n",
            "23/23 [==============================] - 6s 237ms/step - loss: 0.5135 - mean_absolute_error: 0.0515 - val_loss: 0.5110 - val_mean_absolute_error: 0.0419\n",
            "Epoch 167/300\n",
            "23/23 [==============================] - 6s 258ms/step - loss: 0.5107 - mean_absolute_error: 0.0476 - val_loss: 0.5089 - val_mean_absolute_error: 0.0462\n",
            "Epoch 168/300\n",
            "23/23 [==============================] - 6s 259ms/step - loss: 0.5082 - mean_absolute_error: 0.0485 - val_loss: 0.5061 - val_mean_absolute_error: 0.0438\n",
            "Epoch 169/300\n",
            "23/23 [==============================] - 5s 238ms/step - loss: 0.5059 - mean_absolute_error: 0.0500 - val_loss: 0.5038 - val_mean_absolute_error: 0.0458\n",
            "Epoch 170/300\n",
            "23/23 [==============================] - 7s 291ms/step - loss: 0.5032 - mean_absolute_error: 0.0480 - val_loss: 0.5011 - val_mean_absolute_error: 0.0394\n",
            "Epoch 171/300\n",
            "23/23 [==============================] - 5s 236ms/step - loss: 0.5015 - mean_absolute_error: 0.0535 - val_loss: 0.4991 - val_mean_absolute_error: 0.0407\n",
            "Epoch 172/300\n",
            "23/23 [==============================] - 6s 277ms/step - loss: 0.4986 - mean_absolute_error: 0.0509 - val_loss: 0.4962 - val_mean_absolute_error: 0.0419\n",
            "Epoch 173/300\n",
            "23/23 [==============================] - 6s 245ms/step - loss: 0.4962 - mean_absolute_error: 0.0514 - val_loss: 0.4935 - val_mean_absolute_error: 0.0404\n",
            "Epoch 174/300\n",
            "23/23 [==============================] - 5s 238ms/step - loss: 0.4936 - mean_absolute_error: 0.0502 - val_loss: 0.4911 - val_mean_absolute_error: 0.0399\n",
            "Epoch 175/300\n",
            "23/23 [==============================] - 7s 288ms/step - loss: 0.4909 - mean_absolute_error: 0.0494 - val_loss: 0.4888 - val_mean_absolute_error: 0.0426\n",
            "Epoch 176/300\n",
            "23/23 [==============================] - 5s 239ms/step - loss: 0.4889 - mean_absolute_error: 0.0517 - val_loss: 0.4860 - val_mean_absolute_error: 0.0410\n",
            "Epoch 177/300\n",
            "23/23 [==============================] - 6s 276ms/step - loss: 0.4857 - mean_absolute_error: 0.0487 - val_loss: 0.4833 - val_mean_absolute_error: 0.0370\n",
            "Epoch 178/300\n",
            "23/23 [==============================] - 5s 236ms/step - loss: 0.4837 - mean_absolute_error: 0.0510 - val_loss: 0.4806 - val_mean_absolute_error: 0.0351\n",
            "Epoch 179/300\n",
            "23/23 [==============================] - 6s 254ms/step - loss: 0.4810 - mean_absolute_error: 0.0501 - val_loss: 0.4781 - val_mean_absolute_error: 0.0356\n",
            "Epoch 180/300\n",
            "23/23 [==============================] - 6s 278ms/step - loss: 0.4788 - mean_absolute_error: 0.0524 - val_loss: 0.4757 - val_mean_absolute_error: 0.0381\n",
            "Epoch 181/300\n",
            "23/23 [==============================] - 5s 235ms/step - loss: 0.4755 - mean_absolute_error: 0.0478 - val_loss: 0.4735 - val_mean_absolute_error: 0.0400\n",
            "Epoch 182/300\n",
            "23/23 [==============================] - 6s 280ms/step - loss: 0.4734 - mean_absolute_error: 0.0495 - val_loss: 0.4708 - val_mean_absolute_error: 0.0373\n",
            "Epoch 183/300\n",
            "23/23 [==============================] - 5s 236ms/step - loss: 0.4711 - mean_absolute_error: 0.0497 - val_loss: 0.4688 - val_mean_absolute_error: 0.0466\n",
            "Epoch 184/300\n",
            "23/23 [==============================] - 6s 270ms/step - loss: 0.4686 - mean_absolute_error: 0.0507 - val_loss: 0.4662 - val_mean_absolute_error: 0.0427\n",
            "Epoch 185/300\n",
            "23/23 [==============================] - 6s 263ms/step - loss: 0.4655 - mean_absolute_error: 0.0481 - val_loss: 0.4645 - val_mean_absolute_error: 0.0547\n",
            "Epoch 186/300\n",
            "23/23 [==============================] - 5s 239ms/step - loss: 0.4638 - mean_absolute_error: 0.0528 - val_loss: 0.4620 - val_mean_absolute_error: 0.0476\n",
            "Epoch 187/300\n",
            "23/23 [==============================] - 6s 275ms/step - loss: 0.4607 - mean_absolute_error: 0.0498 - val_loss: 0.4594 - val_mean_absolute_error: 0.0517\n",
            "Epoch 188/300\n",
            "23/23 [==============================] - 5s 237ms/step - loss: 0.4583 - mean_absolute_error: 0.0488 - val_loss: 0.4558 - val_mean_absolute_error: 0.0401\n",
            "Epoch 189/300\n",
            "23/23 [==============================] - 7s 287ms/step - loss: 0.4558 - mean_absolute_error: 0.0486 - val_loss: 0.4535 - val_mean_absolute_error: 0.0396\n",
            "Epoch 190/300\n",
            "23/23 [==============================] - 6s 253ms/step - loss: 0.4532 - mean_absolute_error: 0.0498 - val_loss: 0.4508 - val_mean_absolute_error: 0.0382\n",
            "Epoch 191/300\n",
            "23/23 [==============================] - 6s 266ms/step - loss: 0.4505 - mean_absolute_error: 0.0480 - val_loss: 0.4484 - val_mean_absolute_error: 0.0401\n",
            "Epoch 192/300\n",
            "23/23 [==============================] - 6s 255ms/step - loss: 0.4480 - mean_absolute_error: 0.0482 - val_loss: 0.4460 - val_mean_absolute_error: 0.0398\n",
            "Epoch 193/300\n",
            "23/23 [==============================] - 5s 237ms/step - loss: 0.4457 - mean_absolute_error: 0.0495 - val_loss: 0.4433 - val_mean_absolute_error: 0.0400\n",
            "Epoch 194/300\n",
            "23/23 [==============================] - 6s 275ms/step - loss: 0.4435 - mean_absolute_error: 0.0520 - val_loss: 0.4407 - val_mean_absolute_error: 0.0391\n",
            "Epoch 195/300\n",
            "23/23 [==============================] - 6s 251ms/step - loss: 0.4405 - mean_absolute_error: 0.0483 - val_loss: 0.4384 - val_mean_absolute_error: 0.0442\n",
            "Epoch 196/300\n",
            "23/23 [==============================] - 6s 280ms/step - loss: 0.4377 - mean_absolute_error: 0.0476 - val_loss: 0.4359 - val_mean_absolute_error: 0.0425\n",
            "Epoch 197/300\n",
            "23/23 [==============================] - 6s 240ms/step - loss: 0.4356 - mean_absolute_error: 0.0499 - val_loss: 0.4334 - val_mean_absolute_error: 0.0441\n",
            "Epoch 198/300\n",
            "23/23 [==============================] - 6s 245ms/step - loss: 0.4326 - mean_absolute_error: 0.0476 - val_loss: 0.4307 - val_mean_absolute_error: 0.0400\n",
            "Epoch 199/300\n",
            "23/23 [==============================] - 6s 266ms/step - loss: 0.4304 - mean_absolute_error: 0.0492 - val_loss: 0.4284 - val_mean_absolute_error: 0.0442\n",
            "Epoch 200/300\n",
            "23/23 [==============================] - 6s 251ms/step - loss: 0.4277 - mean_absolute_error: 0.0484 - val_loss: 0.4259 - val_mean_absolute_error: 0.0450\n",
            "Epoch 201/300\n",
            "23/23 [==============================] - 6s 276ms/step - loss: 0.4252 - mean_absolute_error: 0.0489 - val_loss: 0.4230 - val_mean_absolute_error: 0.0435\n",
            "Epoch 202/300\n",
            "23/23 [==============================] - 5s 239ms/step - loss: 0.4225 - mean_absolute_error: 0.0482 - val_loss: 0.4207 - val_mean_absolute_error: 0.0446\n",
            "Epoch 203/300\n",
            "23/23 [==============================] - 6s 266ms/step - loss: 0.4201 - mean_absolute_error: 0.0471 - val_loss: 0.4181 - val_mean_absolute_error: 0.0425\n",
            "Epoch 204/300\n",
            "23/23 [==============================] - 6s 253ms/step - loss: 0.4173 - mean_absolute_error: 0.0463 - val_loss: 0.4156 - val_mean_absolute_error: 0.0421\n",
            "Epoch 205/300\n",
            "23/23 [==============================] - 6s 255ms/step - loss: 0.4151 - mean_absolute_error: 0.0494 - val_loss: 0.4133 - val_mean_absolute_error: 0.0406\n",
            "Epoch 206/300\n",
            "23/23 [==============================] - 6s 279ms/step - loss: 0.4124 - mean_absolute_error: 0.0489 - val_loss: 0.4106 - val_mean_absolute_error: 0.0409\n",
            "Epoch 207/300\n",
            "23/23 [==============================] - 5s 237ms/step - loss: 0.4099 - mean_absolute_error: 0.0485 - val_loss: 0.4081 - val_mean_absolute_error: 0.0416\n",
            "Epoch 208/300\n",
            "23/23 [==============================] - 6s 270ms/step - loss: 0.4075 - mean_absolute_error: 0.0477 - val_loss: 0.4053 - val_mean_absolute_error: 0.0375\n",
            "Epoch 209/300\n",
            "23/23 [==============================] - 6s 239ms/step - loss: 0.4052 - mean_absolute_error: 0.0504 - val_loss: 0.4027 - val_mean_absolute_error: 0.0395\n",
            "Epoch 210/300\n",
            "23/23 [==============================] - 6s 272ms/step - loss: 0.4023 - mean_absolute_error: 0.0479 - val_loss: 0.4007 - val_mean_absolute_error: 0.0459\n",
            "Epoch 211/300\n",
            "23/23 [==============================] - 6s 264ms/step - loss: 0.3994 - mean_absolute_error: 0.0450 - val_loss: 0.3979 - val_mean_absolute_error: 0.0420\n",
            "Epoch 212/300\n",
            "23/23 [==============================] - 5s 238ms/step - loss: 0.3968 - mean_absolute_error: 0.0455 - val_loss: 0.3952 - val_mean_absolute_error: 0.0392\n",
            "Epoch 213/300\n",
            "23/23 [==============================] - 6s 279ms/step - loss: 0.3946 - mean_absolute_error: 0.0460 - val_loss: 0.3927 - val_mean_absolute_error: 0.0405\n",
            "Epoch 214/300\n",
            "23/23 [==============================] - 5s 237ms/step - loss: 0.3919 - mean_absolute_error: 0.0452 - val_loss: 0.3903 - val_mean_absolute_error: 0.0431\n",
            "Epoch 215/300\n",
            "23/23 [==============================] - 6s 278ms/step - loss: 0.3894 - mean_absolute_error: 0.0460 - val_loss: 0.3877 - val_mean_absolute_error: 0.0410\n",
            "Epoch 216/300\n",
            "23/23 [==============================] - 6s 249ms/step - loss: 0.3868 - mean_absolute_error: 0.0452 - val_loss: 0.3854 - val_mean_absolute_error: 0.0449\n",
            "Epoch 217/300\n",
            "23/23 [==============================] - 5s 239ms/step - loss: 0.3847 - mean_absolute_error: 0.0467 - val_loss: 0.3826 - val_mean_absolute_error: 0.0414\n",
            "Epoch 218/300\n",
            "23/23 [==============================] - 6s 280ms/step - loss: 0.3821 - mean_absolute_error: 0.0484 - val_loss: 0.3800 - val_mean_absolute_error: 0.0404\n",
            "Epoch 219/300\n",
            "23/23 [==============================] - 6s 240ms/step - loss: 0.3791 - mean_absolute_error: 0.0435 - val_loss: 0.3775 - val_mean_absolute_error: 0.0388\n",
            "Epoch 220/300\n",
            "23/23 [==============================] - 7s 294ms/step - loss: 0.3770 - mean_absolute_error: 0.0460 - val_loss: 0.3750 - val_mean_absolute_error: 0.0389\n",
            "Epoch 221/300\n",
            "23/23 [==============================] - 6s 238ms/step - loss: 0.3743 - mean_absolute_error: 0.0458 - val_loss: 0.3727 - val_mean_absolute_error: 0.0423\n",
            "Epoch 222/300\n",
            "23/23 [==============================] - 6s 259ms/step - loss: 0.3718 - mean_absolute_error: 0.0455 - val_loss: 0.3703 - val_mean_absolute_error: 0.0448\n",
            "Epoch 223/300\n",
            "23/23 [==============================] - 6s 263ms/step - loss: 0.3693 - mean_absolute_error: 0.0447 - val_loss: 0.3674 - val_mean_absolute_error: 0.0400\n",
            "Epoch 224/300\n",
            "23/23 [==============================] - 5s 236ms/step - loss: 0.3672 - mean_absolute_error: 0.0478 - val_loss: 0.3652 - val_mean_absolute_error: 0.0446\n",
            "Epoch 225/300\n",
            "23/23 [==============================] - 7s 290ms/step - loss: 0.3645 - mean_absolute_error: 0.0461 - val_loss: 0.3626 - val_mean_absolute_error: 0.0415\n",
            "Epoch 226/300\n",
            "23/23 [==============================] - 5s 238ms/step - loss: 0.3623 - mean_absolute_error: 0.0468 - val_loss: 0.3605 - val_mean_absolute_error: 0.0460\n",
            "Epoch 227/300\n",
            "23/23 [==============================] - 6s 278ms/step - loss: 0.3595 - mean_absolute_error: 0.0455 - val_loss: 0.3583 - val_mean_absolute_error: 0.0510\n",
            "Epoch 228/300\n",
            "23/23 [==============================] - 6s 247ms/step - loss: 0.3570 - mean_absolute_error: 0.0462 - val_loss: 0.3556 - val_mean_absolute_error: 0.0470\n",
            "Epoch 229/300\n",
            "23/23 [==============================] - 5s 239ms/step - loss: 0.3543 - mean_absolute_error: 0.0461 - val_loss: 0.3527 - val_mean_absolute_error: 0.0441\n",
            "Epoch 230/300\n",
            "23/23 [==============================] - 7s 288ms/step - loss: 0.3520 - mean_absolute_error: 0.0462 - val_loss: 0.3503 - val_mean_absolute_error: 0.0440\n",
            "Epoch 231/300\n",
            "23/23 [==============================] - 5s 238ms/step - loss: 0.3499 - mean_absolute_error: 0.0484 - val_loss: 0.3475 - val_mean_absolute_error: 0.0402\n",
            "Epoch 232/300\n",
            "23/23 [==============================] - 6s 278ms/step - loss: 0.3468 - mean_absolute_error: 0.0451 - val_loss: 0.3450 - val_mean_absolute_error: 0.0393\n",
            "Epoch 233/300\n",
            "23/23 [==============================] - 6s 242ms/step - loss: 0.3445 - mean_absolute_error: 0.0460 - val_loss: 0.3426 - val_mean_absolute_error: 0.0407\n",
            "Epoch 234/300\n",
            "23/23 [==============================] - 6s 269ms/step - loss: 0.3424 - mean_absolute_error: 0.0469 - val_loss: 0.3411 - val_mean_absolute_error: 0.0488\n",
            "Epoch 235/300\n",
            "23/23 [==============================] - 6s 270ms/step - loss: 0.3393 - mean_absolute_error: 0.0442 - val_loss: 0.3382 - val_mean_absolute_error: 0.0450\n",
            "Epoch 236/300\n",
            "23/23 [==============================] - 5s 238ms/step - loss: 0.3372 - mean_absolute_error: 0.0455 - val_loss: 0.3354 - val_mean_absolute_error: 0.0392\n",
            "Epoch 237/300\n",
            "23/23 [==============================] - 6s 281ms/step - loss: 0.3345 - mean_absolute_error: 0.0455 - val_loss: 0.3327 - val_mean_absolute_error: 0.0389\n",
            "Epoch 238/300\n",
            "23/23 [==============================] - 6s 241ms/step - loss: 0.3319 - mean_absolute_error: 0.0432 - val_loss: 0.3303 - val_mean_absolute_error: 0.0394\n",
            "Epoch 239/300\n",
            "23/23 [==============================] - 6s 275ms/step - loss: 0.3293 - mean_absolute_error: 0.0438 - val_loss: 0.3278 - val_mean_absolute_error: 0.0393\n",
            "Epoch 240/300\n",
            "23/23 [==============================] - 6s 254ms/step - loss: 0.3275 - mean_absolute_error: 0.0456 - val_loss: 0.3254 - val_mean_absolute_error: 0.0398\n",
            "Epoch 241/300\n",
            "23/23 [==============================] - 6s 251ms/step - loss: 0.3248 - mean_absolute_error: 0.0448 - val_loss: 0.3230 - val_mean_absolute_error: 0.0412\n",
            "Epoch 242/300\n",
            "23/23 [==============================] - 6s 265ms/step - loss: 0.3222 - mean_absolute_error: 0.0439 - val_loss: 0.3209 - val_mean_absolute_error: 0.0451\n",
            "Epoch 243/300\n",
            "23/23 [==============================] - 6s 240ms/step - loss: 0.3200 - mean_absolute_error: 0.0454 - val_loss: 0.3180 - val_mean_absolute_error: 0.0388\n",
            "Epoch 244/300\n",
            "23/23 [==============================] - 6s 279ms/step - loss: 0.3172 - mean_absolute_error: 0.0426 - val_loss: 0.3155 - val_mean_absolute_error: 0.0371\n",
            "Epoch 245/300\n",
            "23/23 [==============================] - 6s 253ms/step - loss: 0.3149 - mean_absolute_error: 0.0445 - val_loss: 0.3132 - val_mean_absolute_error: 0.0403\n",
            "Epoch 246/300\n",
            "23/23 [==============================] - 6s 268ms/step - loss: 0.3126 - mean_absolute_error: 0.0438 - val_loss: 0.3106 - val_mean_absolute_error: 0.0374\n",
            "Epoch 247/300\n",
            "23/23 [==============================] - 6s 253ms/step - loss: 0.3103 - mean_absolute_error: 0.0450 - val_loss: 0.3084 - val_mean_absolute_error: 0.0405\n",
            "Epoch 248/300\n",
            "23/23 [==============================] - 5s 238ms/step - loss: 0.3078 - mean_absolute_error: 0.0432 - val_loss: 0.3059 - val_mean_absolute_error: 0.0394\n",
            "Epoch 249/300\n",
            "23/23 [==============================] - 6s 276ms/step - loss: 0.3057 - mean_absolute_error: 0.0460 - val_loss: 0.3035 - val_mean_absolute_error: 0.0369\n",
            "Epoch 250/300\n",
            "23/23 [==============================] - 6s 253ms/step - loss: 0.3030 - mean_absolute_error: 0.0431 - val_loss: 0.3012 - val_mean_absolute_error: 0.0377\n",
            "Epoch 251/300\n",
            "23/23 [==============================] - 6s 276ms/step - loss: 0.3003 - mean_absolute_error: 0.0422 - val_loss: 0.2990 - val_mean_absolute_error: 0.0425\n",
            "Epoch 252/300\n",
            "23/23 [==============================] - 6s 240ms/step - loss: 0.2982 - mean_absolute_error: 0.0432 - val_loss: 0.2964 - val_mean_absolute_error: 0.0363\n",
            "Epoch 253/300\n",
            "23/23 [==============================] - 6s 253ms/step - loss: 0.2959 - mean_absolute_error: 0.0448 - val_loss: 0.2944 - val_mean_absolute_error: 0.0426\n",
            "Epoch 254/300\n",
            "23/23 [==============================] - 6s 264ms/step - loss: 0.2936 - mean_absolute_error: 0.0441 - val_loss: 0.2917 - val_mean_absolute_error: 0.0363\n",
            "Epoch 255/300\n",
            "23/23 [==============================] - 6s 252ms/step - loss: 0.2913 - mean_absolute_error: 0.0440 - val_loss: 0.2895 - val_mean_absolute_error: 0.0393\n",
            "Epoch 256/300\n",
            "23/23 [==============================] - 6s 277ms/step - loss: 0.2888 - mean_absolute_error: 0.0439 - val_loss: 0.2872 - val_mean_absolute_error: 0.0397\n",
            "Epoch 257/300\n",
            "23/23 [==============================] - 5s 238ms/step - loss: 0.2866 - mean_absolute_error: 0.0450 - val_loss: 0.2849 - val_mean_absolute_error: 0.0402\n",
            "Epoch 258/300\n",
            "23/23 [==============================] - 6s 275ms/step - loss: 0.2841 - mean_absolute_error: 0.0441 - val_loss: 0.2831 - val_mean_absolute_error: 0.0466\n",
            "Epoch 259/300\n",
            "23/23 [==============================] - 6s 249ms/step - loss: 0.2824 - mean_absolute_error: 0.0473 - val_loss: 0.2804 - val_mean_absolute_error: 0.0405\n",
            "Epoch 260/300\n",
            "23/23 [==============================] - 6s 260ms/step - loss: 0.2795 - mean_absolute_error: 0.0441 - val_loss: 0.2785 - val_mean_absolute_error: 0.0466\n",
            "Epoch 261/300\n",
            "23/23 [==============================] - 6s 272ms/step - loss: 0.2779 - mean_absolute_error: 0.0493 - val_loss: 0.2762 - val_mean_absolute_error: 0.0448\n",
            "Epoch 262/300\n",
            "23/23 [==============================] - 5s 238ms/step - loss: 0.2749 - mean_absolute_error: 0.0432 - val_loss: 0.2733 - val_mean_absolute_error: 0.0357\n",
            "Epoch 263/300\n",
            "23/23 [==============================] - 7s 293ms/step - loss: 0.2728 - mean_absolute_error: 0.0450 - val_loss: 0.2712 - val_mean_absolute_error: 0.0393\n",
            "Epoch 264/300\n",
            "23/23 [==============================] - 6s 241ms/step - loss: 0.2704 - mean_absolute_error: 0.0430 - val_loss: 0.2689 - val_mean_absolute_error: 0.0372\n",
            "Epoch 265/300\n",
            "23/23 [==============================] - 6s 282ms/step - loss: 0.2679 - mean_absolute_error: 0.0409 - val_loss: 0.2666 - val_mean_absolute_error: 0.0360\n",
            "Epoch 266/300\n",
            "23/23 [==============================] - 6s 254ms/step - loss: 0.2656 - mean_absolute_error: 0.0411 - val_loss: 0.2641 - val_mean_absolute_error: 0.0358\n",
            "Epoch 267/300\n",
            "23/23 [==============================] - 5s 239ms/step - loss: 0.2636 - mean_absolute_error: 0.0441 - val_loss: 0.2623 - val_mean_absolute_error: 0.0365\n",
            "Epoch 268/300\n",
            "23/23 [==============================] - 6s 279ms/step - loss: 0.2616 - mean_absolute_error: 0.0444 - val_loss: 0.2598 - val_mean_absolute_error: 0.0352\n",
            "Epoch 269/300\n",
            "23/23 [==============================] - 5s 238ms/step - loss: 0.2590 - mean_absolute_error: 0.0420 - val_loss: 0.2578 - val_mean_absolute_error: 0.0360\n",
            "Epoch 270/300\n",
            "23/23 [==============================] - 7s 291ms/step - loss: 0.2567 - mean_absolute_error: 0.0416 - val_loss: 0.2552 - val_mean_absolute_error: 0.0335\n",
            "Epoch 271/300\n",
            "23/23 [==============================] - 6s 243ms/step - loss: 0.2544 - mean_absolute_error: 0.0418 - val_loss: 0.2528 - val_mean_absolute_error: 0.0333\n",
            "Epoch 272/300\n",
            "23/23 [==============================] - 6s 247ms/step - loss: 0.2523 - mean_absolute_error: 0.0418 - val_loss: 0.2506 - val_mean_absolute_error: 0.0330\n",
            "Epoch 273/300\n",
            "23/23 [==============================] - 6s 270ms/step - loss: 0.2500 - mean_absolute_error: 0.0412 - val_loss: 0.2487 - val_mean_absolute_error: 0.0371\n",
            "Epoch 274/300\n",
            "23/23 [==============================] - 5s 239ms/step - loss: 0.2478 - mean_absolute_error: 0.0406 - val_loss: 0.2467 - val_mean_absolute_error: 0.0378\n",
            "Epoch 275/300\n",
            "23/23 [==============================] - 7s 294ms/step - loss: 0.2456 - mean_absolute_error: 0.0403 - val_loss: 0.2441 - val_mean_absolute_error: 0.0349\n",
            "Epoch 276/300\n",
            "23/23 [==============================] - 6s 241ms/step - loss: 0.2435 - mean_absolute_error: 0.0414 - val_loss: 0.2420 - val_mean_absolute_error: 0.0347\n",
            "Epoch 277/300\n",
            "23/23 [==============================] - 6s 263ms/step - loss: 0.2415 - mean_absolute_error: 0.0421 - val_loss: 0.2398 - val_mean_absolute_error: 0.0351\n",
            "Epoch 278/300\n",
            "23/23 [==============================] - 6s 257ms/step - loss: 0.2393 - mean_absolute_error: 0.0416 - val_loss: 0.2378 - val_mean_absolute_error: 0.0366\n",
            "Epoch 279/300\n",
            "23/23 [==============================] - 5s 238ms/step - loss: 0.2370 - mean_absolute_error: 0.0419 - val_loss: 0.2356 - val_mean_absolute_error: 0.0382\n",
            "Epoch 280/300\n",
            "23/23 [==============================] - 7s 289ms/step - loss: 0.2348 - mean_absolute_error: 0.0406 - val_loss: 0.2332 - val_mean_absolute_error: 0.0341\n",
            "Epoch 281/300\n",
            "23/23 [==============================] - 5s 239ms/step - loss: 0.2330 - mean_absolute_error: 0.0422 - val_loss: 0.2312 - val_mean_absolute_error: 0.0351\n",
            "Epoch 282/300\n",
            "23/23 [==============================] - 6s 275ms/step - loss: 0.2302 - mean_absolute_error: 0.0382 - val_loss: 0.2291 - val_mean_absolute_error: 0.0358\n",
            "Epoch 283/300\n",
            "23/23 [==============================] - 6s 240ms/step - loss: 0.2286 - mean_absolute_error: 0.0414 - val_loss: 0.2269 - val_mean_absolute_error: 0.0335\n",
            "Epoch 284/300\n",
            "23/23 [==============================] - 6s 258ms/step - loss: 0.2261 - mean_absolute_error: 0.0404 - val_loss: 0.2250 - val_mean_absolute_error: 0.0364\n",
            "Epoch 285/300\n",
            "23/23 [==============================] - 6s 277ms/step - loss: 0.2239 - mean_absolute_error: 0.0392 - val_loss: 0.2229 - val_mean_absolute_error: 0.0373\n",
            "Epoch 286/300\n",
            "23/23 [==============================] - 5s 238ms/step - loss: 0.2217 - mean_absolute_error: 0.0388 - val_loss: 0.2210 - val_mean_absolute_error: 0.0405\n",
            "Epoch 287/300\n",
            "23/23 [==============================] - 6s 278ms/step - loss: 0.2196 - mean_absolute_error: 0.0377 - val_loss: 0.2184 - val_mean_absolute_error: 0.0325\n",
            "Epoch 288/300\n",
            "23/23 [==============================] - 6s 241ms/step - loss: 0.2178 - mean_absolute_error: 0.0408 - val_loss: 0.2165 - val_mean_absolute_error: 0.0344\n",
            "Epoch 289/300\n",
            "23/23 [==============================] - 6s 275ms/step - loss: 0.2157 - mean_absolute_error: 0.0396 - val_loss: 0.2146 - val_mean_absolute_error: 0.0380\n",
            "Epoch 290/300\n",
            "23/23 [==============================] - 6s 261ms/step - loss: 0.2137 - mean_absolute_error: 0.0395 - val_loss: 0.2125 - val_mean_absolute_error: 0.0373\n",
            "Epoch 291/300\n",
            "23/23 [==============================] - 6s 257ms/step - loss: 0.2116 - mean_absolute_error: 0.0402 - val_loss: 0.2104 - val_mean_absolute_error: 0.0359\n",
            "Epoch 292/300\n",
            "23/23 [==============================] - 6s 267ms/step - loss: 0.2096 - mean_absolute_error: 0.0408 - val_loss: 0.2083 - val_mean_absolute_error: 0.0360\n",
            "Epoch 293/300\n",
            "23/23 [==============================] - 5s 239ms/step - loss: 0.2073 - mean_absolute_error: 0.0393 - val_loss: 0.2066 - val_mean_absolute_error: 0.0370\n",
            "Epoch 294/300\n",
            "23/23 [==============================] - 6s 279ms/step - loss: 0.2055 - mean_absolute_error: 0.0398 - val_loss: 0.2044 - val_mean_absolute_error: 0.0340\n",
            "Epoch 295/300\n",
            "23/23 [==============================] - 6s 253ms/step - loss: 0.2035 - mean_absolute_error: 0.0413 - val_loss: 0.2026 - val_mean_absolute_error: 0.0358\n",
            "Epoch 296/300\n",
            "23/23 [==============================] - 6s 261ms/step - loss: 0.2019 - mean_absolute_error: 0.0423 - val_loss: 0.2004 - val_mean_absolute_error: 0.0389\n",
            "Epoch 297/300\n",
            "23/23 [==============================] - 6s 255ms/step - loss: 0.1997 - mean_absolute_error: 0.0404 - val_loss: 0.1983 - val_mean_absolute_error: 0.0346\n",
            "Epoch 298/300\n",
            "23/23 [==============================] - 6s 240ms/step - loss: 0.1978 - mean_absolute_error: 0.0419 - val_loss: 0.1971 - val_mean_absolute_error: 0.0362\n",
            "Epoch 299/300\n",
            "23/23 [==============================] - 6s 277ms/step - loss: 0.1962 - mean_absolute_error: 0.0444 - val_loss: 0.1945 - val_mean_absolute_error: 0.0354\n",
            "Epoch 300/300\n",
            "23/23 [==============================] - 6s 253ms/step - loss: 0.1941 - mean_absolute_error: 0.0426 - val_loss: 0.1924 - val_mean_absolute_error: 0.0336\n"
          ]
        }
      ]
    },
    {
      "cell_type": "code",
      "metadata": {
        "id": "DiMrjc2loDGy"
      },
      "source": [
        "plt.figure(figsize=(20, 4))\n",
        "\n",
        "plt.subplot(1, 2, 1)\n",
        "plt.title('Loss')\n",
        "plt.plot(history.history['loss'], label='Training', linewidth=2)\n",
        "plt.plot(history.history['val_loss'], label='Validation', linewidth=2)\n",
        "plt.legend()\n",
        "plt.xlabel('Epoch')\n",
        "plt.ylabel('Loss')\n",
        "plt.grid(True)"
      ],
      "execution_count": null,
      "outputs": []
    },
    {
      "cell_type": "code",
      "metadata": {
        "colab": {
          "base_uri": "https://localhost:8080/"
        },
        "id": "hq9iCDDWm2FL",
        "outputId": "63ddb027-fab7-472b-e0ad-9cf9df14d5bb"
      },
      "source": [
        "loss, accuracy = model_BERT.evaluate(x_test, y_test)\n",
        "\n",
        "print(f'Loss: {loss}')\n",
        "print(f'Mean Absolute Error: {accuracy}')"
      ],
      "execution_count": null,
      "outputs": [
        {
          "output_type": "stream",
          "name": "stdout",
          "text": [
            "7/7 [==============================] - 1s 182ms/step - loss: 0.1943 - mean_absolute_error: 0.0449\n",
            "Loss: 0.19432677328586578\n",
            "Mean Absolute Error: 0.044858694076538086\n"
          ]
        }
      ]
    },
    {
      "cell_type": "code",
      "metadata": {
        "id": "nfAkOvO5teZP",
        "colab": {
          "base_uri": "https://localhost:8080/"
        },
        "outputId": "67183007-07fa-42a9-a528-156cbe9e737b"
      },
      "source": [
        "from sklearn.metrics import mean_absolute_percentage_error\n",
        "\n",
        "y_pred = model_BERT.predict(x_test)\n",
        "\n",
        "mape = mean_absolute_percentage_error(y_test, y_pred)\n",
        "\n",
        "accuracy = 1 - mape\n",
        "\n",
        "print(f\"Accuracy: {accuracy:.2f}%\")"
      ],
      "execution_count": null,
      "outputs": [
        {
          "output_type": "stream",
          "name": "stdout",
          "text": [
            "7/7 [==============================] - 1s 116ms/step\n",
            "Accuracy: -731033803094.31%\n"
          ]
        }
      ]
    },
    {
      "cell_type": "code",
      "source": [
        "X = raw_data['final_price'].values.reshape(-1, 1)\n",
        "scaler.fit(X)"
      ],
      "metadata": {
        "colab": {
          "base_uri": "https://localhost:8080/",
          "height": 75
        },
        "id": "Kd0rLgUJOQYs",
        "outputId": "e7d786a0-df88-4e0f-b297-f5d4e1953ad9"
      },
      "execution_count": null,
      "outputs": [
        {
          "output_type": "execute_result",
          "data": {
            "text/plain": [
              "MinMaxScaler()"
            ],
            "text/html": [
              "<style>#sk-container-id-4 {color: black;background-color: white;}#sk-container-id-4 pre{padding: 0;}#sk-container-id-4 div.sk-toggleable {background-color: white;}#sk-container-id-4 label.sk-toggleable__label {cursor: pointer;display: block;width: 100%;margin-bottom: 0;padding: 0.3em;box-sizing: border-box;text-align: center;}#sk-container-id-4 label.sk-toggleable__label-arrow:before {content: \"▸\";float: left;margin-right: 0.25em;color: #696969;}#sk-container-id-4 label.sk-toggleable__label-arrow:hover:before {color: black;}#sk-container-id-4 div.sk-estimator:hover label.sk-toggleable__label-arrow:before {color: black;}#sk-container-id-4 div.sk-toggleable__content {max-height: 0;max-width: 0;overflow: hidden;text-align: left;background-color: #f0f8ff;}#sk-container-id-4 div.sk-toggleable__content pre {margin: 0.2em;color: black;border-radius: 0.25em;background-color: #f0f8ff;}#sk-container-id-4 input.sk-toggleable__control:checked~div.sk-toggleable__content {max-height: 200px;max-width: 100%;overflow: auto;}#sk-container-id-4 input.sk-toggleable__control:checked~label.sk-toggleable__label-arrow:before {content: \"▾\";}#sk-container-id-4 div.sk-estimator input.sk-toggleable__control:checked~label.sk-toggleable__label {background-color: #d4ebff;}#sk-container-id-4 div.sk-label input.sk-toggleable__control:checked~label.sk-toggleable__label {background-color: #d4ebff;}#sk-container-id-4 input.sk-hidden--visually {border: 0;clip: rect(1px 1px 1px 1px);clip: rect(1px, 1px, 1px, 1px);height: 1px;margin: -1px;overflow: hidden;padding: 0;position: absolute;width: 1px;}#sk-container-id-4 div.sk-estimator {font-family: monospace;background-color: #f0f8ff;border: 1px dotted black;border-radius: 0.25em;box-sizing: border-box;margin-bottom: 0.5em;}#sk-container-id-4 div.sk-estimator:hover {background-color: #d4ebff;}#sk-container-id-4 div.sk-parallel-item::after {content: \"\";width: 100%;border-bottom: 1px solid gray;flex-grow: 1;}#sk-container-id-4 div.sk-label:hover label.sk-toggleable__label {background-color: #d4ebff;}#sk-container-id-4 div.sk-serial::before {content: \"\";position: absolute;border-left: 1px solid gray;box-sizing: border-box;top: 0;bottom: 0;left: 50%;z-index: 0;}#sk-container-id-4 div.sk-serial {display: flex;flex-direction: column;align-items: center;background-color: white;padding-right: 0.2em;padding-left: 0.2em;position: relative;}#sk-container-id-4 div.sk-item {position: relative;z-index: 1;}#sk-container-id-4 div.sk-parallel {display: flex;align-items: stretch;justify-content: center;background-color: white;position: relative;}#sk-container-id-4 div.sk-item::before, #sk-container-id-4 div.sk-parallel-item::before {content: \"\";position: absolute;border-left: 1px solid gray;box-sizing: border-box;top: 0;bottom: 0;left: 50%;z-index: -1;}#sk-container-id-4 div.sk-parallel-item {display: flex;flex-direction: column;z-index: 1;position: relative;background-color: white;}#sk-container-id-4 div.sk-parallel-item:first-child::after {align-self: flex-end;width: 50%;}#sk-container-id-4 div.sk-parallel-item:last-child::after {align-self: flex-start;width: 50%;}#sk-container-id-4 div.sk-parallel-item:only-child::after {width: 0;}#sk-container-id-4 div.sk-dashed-wrapped {border: 1px dashed gray;margin: 0 0.4em 0.5em 0.4em;box-sizing: border-box;padding-bottom: 0.4em;background-color: white;}#sk-container-id-4 div.sk-label label {font-family: monospace;font-weight: bold;display: inline-block;line-height: 1.2em;}#sk-container-id-4 div.sk-label-container {text-align: center;}#sk-container-id-4 div.sk-container {/* jupyter's `normalize.less` sets `[hidden] { display: none; }` but bootstrap.min.css set `[hidden] { display: none !important; }` so we also need the `!important` here to be able to override the default hidden behavior on the sphinx rendered scikit-learn.org. See: https://github.com/scikit-learn/scikit-learn/issues/21755 */display: inline-block !important;position: relative;}#sk-container-id-4 div.sk-text-repr-fallback {display: none;}</style><div id=\"sk-container-id-4\" class=\"sk-top-container\"><div class=\"sk-text-repr-fallback\"><pre>MinMaxScaler()</pre><b>In a Jupyter environment, please rerun this cell to show the HTML representation or trust the notebook. <br />On GitHub, the HTML representation is unable to render, please try loading this page with nbviewer.org.</b></div><div class=\"sk-container\" hidden><div class=\"sk-item\"><div class=\"sk-estimator sk-toggleable\"><input class=\"sk-toggleable__control sk-hidden--visually\" id=\"sk-estimator-id-4\" type=\"checkbox\" checked><label for=\"sk-estimator-id-4\" class=\"sk-toggleable__label sk-toggleable__label-arrow\">MinMaxScaler</label><div class=\"sk-toggleable__content\"><pre>MinMaxScaler()</pre></div></div></div></div></div>"
            ]
          },
          "metadata": {},
          "execution_count": 51
        }
      ]
    },
    {
      "cell_type": "code",
      "source": [
        "y_test = y_test.reshape(-1,1)\n",
        "\n",
        "y_pred_unscaled = scaler.inverse_transform(y_pred)\n",
        "y_test_unscaled = scaler.inverse_transform(y_test)"
      ],
      "metadata": {
        "id": "HGPqRlFTPaY4"
      },
      "execution_count": null,
      "outputs": []
    },
    {
      "cell_type": "code",
      "source": [
        "from sklearn.metrics import mean_squared_error, mean_absolute_error, r2_score\n",
        "\n",
        "mse = mean_squared_error(y_test_unscaled, y_pred_unscaled)\n",
        "\n",
        "mae = mean_absolute_error(y_test_unscaled, y_pred_unscaled)\n",
        "\n",
        "r2 = r2_score(y_test_unscaled, y_pred_unscaled)\n",
        "\n",
        "print(f\"Mean Squared Error (MSE): {mse:.4f}\")\n",
        "print(f\"Mean Absolute Error (MAE): {mae:.4f}\")\n",
        "print(f\"R-squared (R^2) Score: {r2:.4f}\")"
      ],
      "metadata": {
        "colab": {
          "base_uri": "https://localhost:8080/"
        },
        "id": "C6sFSyymQBsN",
        "outputId": "a4b4993f-92f4-4ba8-d879-e489b8dd10f7"
      },
      "execution_count": null,
      "outputs": [
        {
          "output_type": "stream",
          "name": "stdout",
          "text": [
            "Mean Squared Error (MSE): 2090950441833.2131\n",
            "Mean Absolute Error (MAE): 973244.4410\n",
            "R-squared (R^2) Score: 0.7334\n"
          ]
        }
      ]
    },
    {
      "cell_type": "code",
      "source": [],
      "metadata": {
        "id": "QC7lyf8UQ1rk"
      },
      "execution_count": null,
      "outputs": []
    }
  ]
}